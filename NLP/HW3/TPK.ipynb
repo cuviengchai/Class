{
 "cells": [
  {
   "cell_type": "markdown",
   "metadata": {},
   "source": [
    "# Homework 3: Word Embedding\n",
    "\n",
    "In this exercise, you will work on the skip-gram neural network architecture for Word2Vec. You will be using Keras to train your model. \n",
    "\n",
    "The sample code for skip-gram model is given. Your job is to incorporate the tokenizer model that you created in HomeWork-1 to tokenize raw text and turn it into word vectors.\n",
    "\n",
    "You must complete the following tasks:\n",
    "1. Read/clean text files\n",
    "2. Indexing (Assign a number to each word)\n",
    "3. Create skip-grams (inputs for your model)\n",
    "4. Create the skip-gram neural network model\n",
    "5. Visualization\n",
    "6. Evaluation (Using pre-trained, not using pre-trained)\n",
    "    (classify topic from 4 categories) \n",
    "    \n",
    "This notebook assumes you have already installed Tensorflow and Keras with python3 and had GPU enabled. If you run this exercise on GCloud using the provided disk image you are all set.\n",
    "\n",
    "As a reminder,\n",
    "\n",
    "### Don't forget to shut down your instance on Gcloud when you are not using it ###\n"
   ]
  },
  {
   "cell_type": "code",
   "execution_count": 1,
   "metadata": {},
   "outputs": [
    {
     "name": "stderr",
     "output_type": "stream",
     "text": [
      "Using TensorFlow backend.\n"
     ]
    }
   ],
   "source": [
    "%matplotlib inline\n",
    "import numpy as np\n",
    "import pandas as pd\n",
    "import math\n",
    "import glob\n",
    "import re\n",
    "import random\n",
    "import collections\n",
    "import os\n",
    "import sys\n",
    "from keras.preprocessing import sequence\n",
    "from keras.models import Sequential, Model\n",
    "from keras.layers import GRU, Dropout\n",
    "from keras.models import load_model\n",
    "from keras.layers import Embedding, Reshape, Activation, Input, Dense, Masking\n",
    "from keras.layers.merge import Dot\n",
    "from keras.utils import np_utils\n",
    "from keras.utils.data_utils import get_file\n",
    "from keras.utils.np_utils import to_categorical\n",
    "from keras.preprocessing.sequence import skipgrams\n",
    "from keras.preprocessing import sequence\n",
    "from keras import backend as K\n",
    "from keras.optimizers import Adam\n",
    "\n",
    "\n",
    "random.seed(42)"
   ]
  },
  {
   "cell_type": "markdown",
   "metadata": {},
   "source": [
    "## Step 1: Read/clean text files\n",
    "\n",
    "The given code can be used to processed the pre-tokenzied text file from the wikipedia corpus. In your homework, you must replace those text files with raw text files.  You must use your own tokenizer to process your text files"
   ]
  },
  {
   "cell_type": "code",
   "execution_count": 2,
   "metadata": {},
   "outputs": [],
   "source": [
    "#Step 1: read the wikipedia text file\n",
    "with open(\"/home/ekapolc/corpora/wiki/thwiki_chk.txt\") as f:\n",
    "    raw_text = [] \n",
    "    #The text file is already tokenized BUT...\n",
    "    #we've replaced all the spaces between words, so you have to use your tokenizer.\n",
    "    raw_text.extend(re.sub(r\"\\s+\",\"\",f.read()))\n",
    "    #since the wiki file is very large, we will only use 1/20 of the whole wiki file in this homework\n",
    "    # if you have enough memeory and want to add more training data, please feel free to edit this code\n",
    "    # to include more data\n",
    "    raw_text = raw_text[:len(raw_text)//20]\n"
   ]
  },
  {
   "cell_type": "code",
   "execution_count": 3,
   "metadata": {
    "collapsed": true
   },
   "outputs": [],
   "source": [
    "# Create a character map\n",
    "CHARS = [\n",
    "  '\\n', ' ', '!', '\"', '#', '$', '%', '&', \"'\", '(', ')', '*', '+',\n",
    "  ',', '-', '.', '/', '0', '1', '2', '3', '4', '5', '6', '7', '8',\n",
    "  '9', ':', ';', '<', '=', '>', '?', '@', 'A', 'B', 'C', 'D', 'E',\n",
    "  'F', 'G', 'H', 'I', 'J', 'K', 'L', 'M', 'N', 'O', 'P', 'Q', 'R',\n",
    "  'S', 'T', 'U', 'V', 'W', 'X', 'Y', 'Z', '[', '\\\\', ']', '^', '_',\n",
    "  'a', 'b', 'c', 'd', 'e', 'f', 'g', 'h', 'i', 'j', 'k', 'l', 'm',\n",
    "  'n', 'o', 'other', 'p', 'q', 'r', 's', 't', 'u', 'v', 'w', 'x', 'y',\n",
    "  'z', '}', '~', 'ก', 'ข', 'ฃ', 'ค', 'ฅ', 'ฆ', 'ง', 'จ', 'ฉ', 'ช',\n",
    "  'ซ', 'ฌ', 'ญ', 'ฎ', 'ฏ', 'ฐ', 'ฑ', 'ฒ', 'ณ', 'ด', 'ต', 'ถ', 'ท',\n",
    "  'ธ', 'น', 'บ', 'ป', 'ผ', 'ฝ', 'พ', 'ฟ', 'ภ', 'ม', 'ย', 'ร', 'ฤ',\n",
    "  'ล', 'ว', 'ศ', 'ษ', 'ส', 'ห', 'ฬ', 'อ', 'ฮ', 'ฯ', 'ะ', 'ั', 'า',\n",
    "  'ำ', 'ิ', 'ี', 'ึ', 'ื', 'ุ', 'ู', 'ฺ', 'เ', 'แ', 'โ', 'ใ', 'ไ',\n",
    "  'ๅ', 'ๆ', '็', '่', '้', '๊', '๋', '์', 'ํ', '๐', '๑', '๒', '๓',\n",
    "  '๔', '๕', '๖', '๗', '๘', '๙', '‘', '’', '\\ufeff'\n",
    "]\n",
    "CHARS_MAP = {v: k for k, v in enumerate(CHARS)}\n",
    "char = np.array(CHARS)"
   ]
  },
  {
   "cell_type": "code",
   "execution_count": 4,
   "metadata": {
    "collapsed": true
   },
   "outputs": [],
   "source": [
    "def create_n_gram_df(df, n_pad):\n",
    "  \"\"\"\n",
    "  Given an input dataframe, create a feature dataframe of shifted characters\n",
    "  Input:\n",
    "  df: timeseries of size (N)\n",
    "  n_pad: the number of context. For a given character at position [idx],\n",
    "    character at position [idx-n_pad/2 : idx+n_pad/2] will be used \n",
    "    as features for that character.\n",
    "  \n",
    "  Output:\n",
    "  dataframe of size (N * n_pad) which each row contains the character, \n",
    "    n_pad_2 characters to the left, and n_pad_2 characters to the right\n",
    "    of that character.\n",
    "  \"\"\"\n",
    "  n_pad_2 = int((n_pad - 1)/2)\n",
    "  for i in range(n_pad_2):\n",
    "      df['char-{}'.format(i+1)] = df['char'].shift(i + 1)\n",
    "      df['char{}'.format(i+1)] = df['char'].shift(-i - 1)\n",
    "  return df[n_pad_2: -n_pad_2]\n",
    "\n",
    "\n",
    "def prepare_wiki_feature(raw_text_input):\n",
    "    \"\"\"\n",
    "    Transform the path to a directory containing processed files \n",
    "    into a feature matrix and output array\n",
    "    \"\"\"\n",
    "    # we use padding equals 21 here to consider 10 characters to the left\n",
    "    # and 10 characters to the right as features for the character in the middle\n",
    "    n_pad = 21\n",
    "    n_pad_2 = int((n_pad - 1)/2)\n",
    "    pad = [{'char': ' ', 'target': True}]\n",
    "    df_pad = pd.DataFrame(pad * n_pad_2)\n",
    "\n",
    "    df = []\n",
    "\n",
    "    df.append(pd.DataFrame(  {'char': raw_text_input}))\n",
    "\n",
    "    df = pd.concat(df)\n",
    "    # pad with empty string feature\n",
    "    df = pd.concat((df_pad, df, df_pad))\n",
    "\n",
    "    # map characters to numbers, use 'other' if not in the predefined character set.\n",
    "    df['char'] = df['char'].map(lambda x: CHARS_MAP.get(x, 80))\n",
    "\n",
    "    # Use nearby characters as features\n",
    "    df_with_context = create_n_gram_df(df, n_pad=n_pad)\n",
    "\n",
    "    char_row = ['char' + str(i + 1) for i in range(n_pad_2)] + \\\n",
    "             ['char-' + str(i + 1) for i in range(n_pad_2)] + ['char']\n",
    "\n",
    "    # convert pandas dataframe to numpy array to feed to the model\n",
    "    x_char = df_with_context[char_row].as_matrix()\n",
    "\n",
    "    return x_char\n",
    "\n",
    "#A function for displaying our features in text\n",
    "def print_features(tfeature,index):\n",
    "    feature = np.array(tfeature[index],dtype=int).reshape(21,1)\n",
    "    #Convert to string\n",
    "    char_list = char[feature]\n",
    "    left = ''.join(reversed(char_list[10:20].reshape(10))).replace(\" \", \"\")\n",
    "    center = ''.join(char_list[20])\n",
    "    right =  ''.join(char_list[0:10].reshape(10)).replace(\" \", \"\")\n",
    "    word = ''.join([left,' ',center,' ',right])\n",
    "    print(center + ': ' + word )"
   ]
  },
  {
   "cell_type": "markdown",
   "metadata": {},
   "source": [
    "## <font color='blue'>Homework Question1:</font>\n",
    "<font color='blue'>Use your own tokenizer (aka word segmentation model)  to define word boundaries and split the given text file into words.  Capture the screenshot of your code segment that loads the word segmentation model and uses the model to segment the text files. </font>"
   ]
  },
  {
   "cell_type": "code",
   "execution_count": 5,
   "metadata": {},
   "outputs": [
    {
     "name": "stdout",
     "output_type": "stream",
     "text": [
      "total word count: 7592023\n"
     ]
    }
   ],
   "source": [
    "print(\"total word count:\", len(raw_text))"
   ]
  },
  {
   "cell_type": "code",
   "execution_count": 6,
   "metadata": {},
   "outputs": [
    {
     "name": "stdout",
     "output_type": "stream",
     "text": [
      "_________________________________________________________________\n",
      "Layer (type)                 Output Shape              Param #   \n",
      "=================================================================\n",
      "input_1 (InputLayer)         (None, 21)                0         \n",
      "_________________________________________________________________\n",
      "embedding_1 (Embedding)      (None, 21, 8)             1424      \n",
      "_________________________________________________________________\n",
      "conv1d_1 (Conv1D)            (None, 21, 100)           4100      \n",
      "_________________________________________________________________\n",
      "time_distributed_1 (TimeDist (None, 21, 5)             505       \n",
      "_________________________________________________________________\n",
      "flatten_1 (Flatten)          (None, 105)               0         \n",
      "_________________________________________________________________\n",
      "dense_2 (Dense)              (None, 100)               10600     \n",
      "_________________________________________________________________\n",
      "dense_3 (Dense)              (None, 100)               10100     \n",
      "_________________________________________________________________\n",
      "dense_4 (Dense)              (None, 100)               10100     \n",
      "_________________________________________________________________\n",
      "dense_5 (Dense)              (None, 1)                 101       \n",
      "=================================================================\n",
      "Total params: 36,930\n",
      "Trainable params: 36,930\n",
      "Non-trainable params: 0\n",
      "_________________________________________________________________\n"
     ]
    }
   ],
   "source": [
    "from keras.layers import Conv1D, TimeDistributed, Flatten\n",
    "# TODO#1 \n",
    "#load your word segmentation model here!\n",
    "def get_your_nn():\n",
    "    #replace \"pass\" with code for your neural net\n",
    "    \n",
    "    input1 = Input(shape=(21,))\n",
    "    x = Embedding(178,8)(input1)\n",
    "    x = Conv1D(100,5,strides=1,activation='relu',padding=\"same\")(x)\n",
    "    x = TimeDistributed(Dense(5))(x)\n",
    "    x = Flatten()(x)\n",
    "    x = Dense(100, activation='relu')(x)\n",
    "    x = Dense(100, activation='relu')(x)\n",
    "    x = Dense(100, activation='relu')(x)\n",
    "    out = Dense(1, activation='sigmoid')(x)\n",
    "    model = Model(inputs=input1, outputs=out)\n",
    "    model.compile(optimizer=Adam(),\n",
    "                 loss='binary_crossentropy',\n",
    "                 metrics=['acc'])\n",
    "    model.summary()\n",
    "    model.compile(loss='binary_crossentropy', optimizer='adam')\n",
    "    model.load_weights('/data/model_best_2.h5')\n",
    "    return model\n",
    "\n",
    "model = get_your_nn()\n",
    "\n",
    "#load weights here/ or alternatively you can also load your entire model\n"
   ]
  },
  {
   "cell_type": "code",
   "execution_count": 7,
   "metadata": {},
   "outputs": [
    {
     "name": "stdout",
     "output_type": "stream",
     "text": [
      " data shape:  (7592023, 21)\n"
     ]
    }
   ],
   "source": [
    "x_char= prepare_wiki_feature(raw_text)\n",
    "#feel free to edit prepare_wiki_feature if your model has different input format\n",
    "# As a sanity check, we print out the size of the data.\n",
    "print(' data shape: ', x_char.shape)\n"
   ]
  },
  {
   "cell_type": "code",
   "execution_count": 8,
   "metadata": {},
   "outputs": [],
   "source": [
    "def char_to_word(raw_text, y_pred):\n",
    "    \"\"\" add spaces between words in the raw text based on your prediction\n",
    "    \"\"\"\n",
    "    split_text=\"\"\n",
    "    for char, y in zip(raw_text,y_pred):\n",
    "        if y == 1:\n",
    "            split_text+=\" \"\n",
    "            split_text+=char\n",
    "        else:\n",
    "            split_text+=char\n",
    "    return split_text.split(\" \")"
   ]
  },
  {
   "cell_type": "code",
   "execution_count": 9,
   "metadata": {},
   "outputs": [],
   "source": [
    "####TOKENIZATION\n",
    "###THIS MIGHT TAKE ABOUT 10 MINS on feed forward models\n",
    "y_pred = model.predict(x_char)\n",
    "prob_to_class = lambda p: 1 if p[0]>=0.5 else 0\n",
    "y_pred = np.apply_along_axis(prob_to_class,1,y_pred)\n",
    "del x_char #clear up some memory"
   ]
  },
  {
   "cell_type": "code",
   "execution_count": 10,
   "metadata": {},
   "outputs": [
    {
     "name": "stdout",
     "output_type": "stream",
     "text": [
      "['', 'หน้า', 'หลัก', 'วิกิพี', 'เดีย', 'ดำเนิน', 'การ', 'โดย', 'มูลนิธิวิกิมี', 'เดีย', 'องค์กร', 'ไม่', 'แสวง', 'ผล', 'กำไร', 'ผู้', 'ดำเนิน', 'การ', 'อีก', 'หลาย', 'ได้', 'แก่__NOEDITSECTION__ดาราศาสตร์', 'ดาราศาสตร์', 'คือ', 'วิชาวิทยาศาสตร์', 'ที่', 'ศึกษา', 'วัตถุ', 'ท้อง', 'ฟ้า', '(', 'อาทิ', 'ดาวฤกษ์', 'ดาว', 'เคราะห์', 'ดาว', 'หาง', 'และ', 'ดาราจักร', ')', 'รวม', 'ทั้ง', 'ปรากฏการณ์', 'ทาง', 'ธรรมชาติ', 'ต่างๆ', 'ที่', 'เกิด', 'ขึ้น', 'จาก', 'นอก', 'ชั้น', 'บรรยากาศ', 'ของ', 'โลก', 'โดย', 'ศึกษา', 'เกี่ยว', 'กับ', 'วิวัฒนาการ', 'ลักษณะ', 'ทาง', 'กาย', 'ภาพ', 'ทาง', 'เคมี', 'ทาง', 'อุตุนิยมวิทยา', 'และ', 'การ', 'เคลื่อน', 'ที่', 'ของ', 'วัตถุ', 'ท้อง', 'ฟ้าตลอดจน', 'ถึง', 'การ', 'กำเนิด', 'และ', 'วิวัฒนาการ', 'ของ', 'เอกภพดาราศาสตร์', 'เป็น', 'หนึ่ง', 'ใน', 'สาขา', 'ของ', 'วิทยาศาสตร์', 'ที่', 'เก่าแก่', 'ที่สุด', 'นัก', 'ดาราศาสตร์', 'ใน', 'วัฒนธรรม', 'โบราณ', 'สังเกตการณ์', 'ดวง', 'ดาว']\n"
     ]
    }
   ],
   "source": [
    "tokens= char_to_word(raw_text, y_pred)\n",
    "#print out first 100 words for sanity check\n",
    "print(tokens[0:100])"
   ]
  },
  {
   "cell_type": "code",
   "execution_count": 11,
   "metadata": {},
   "outputs": [
    {
     "name": "stdout",
     "output_type": "stream",
     "text": [
      "total word count: 1810640\n"
     ]
    }
   ],
   "source": [
    "print(\"total word count:\", len(tokens))"
   ]
  },
  {
   "cell_type": "markdown",
   "metadata": {},
   "source": [
    "## Step 2: Indexing (Assign a number to each word)\n",
    "\n",
    "The code below generates an indexed dataset(each word is represented by a number), a dictionary, a reversed dictionary\n",
    "\n",
    "## <font color='blue'>Homework Question 2:</font>\n",
    "<font color='blue'>“UNK” is often used to represent an unknown word (a word which do not exist in your dictionary/training set). You can also represent a rare word with this token as well.  How do you define a rare word in your program? Explain in your own words and capture the screenshot of your code segment that is a part of this process</font>\n",
    "\n",
    " + <font color='blue'>edit or replace create_index with your own code to set a threshold for rare words and replace them with \"UNK\"</font>"
   ]
  },
  {
   "cell_type": "code",
   "execution_count": 22,
   "metadata": {},
   "outputs": [
    {
     "name": "stdout",
     "output_type": "stream",
     "text": [
      "[('UNK', 95580), ('ที่', 48011), ('ใน', 43898), ('การ', 41876), ('เป็น', 36264), ('และ', 35478), ('ของ', 33939), ('มี', 30659), ('ได้', 24185), ('\"', 18240)]\n"
     ]
    }
   ],
   "source": [
    "#step 2:Build dictionary and build a dataset(replace each word with its index)\n",
    "def create_index(input_text):\n",
    "    # TODO#2:edit or replace this function\n",
    "    words = [word for word in input_text ]\n",
    "    word_count = list()\n",
    "    #use set and len to get the number of unique words\n",
    "    word_count.extend(collections.Counter(words).most_common(len(set(words))))\n",
    "    #include a token for unknown word   \n",
    "    \n",
    "    threshold = 4\n",
    "    num_UNK = 0\n",
    "    index = len(word_count) - 1\n",
    "    rare_word = set()\n",
    "    while(word_count[index][1] <= threshold):\n",
    "        num_UNK += word_count[index][1]\n",
    "        rare_word.add(word_count[index][0])\n",
    "        index -= 1\n",
    "    word_count = word_count[:index+1]\n",
    "    word_count.append((\"UNK\",num_UNK))\n",
    "    word_count.sort(key=lambda x: x[1], reverse=True)\n",
    "    \n",
    "    #print out 10 most frequent words\n",
    "    print(word_count[:10])\n",
    "    dictionary = dict()\n",
    "    dictionary[\"for_keras_zero_padding\"] = 0\n",
    "    for word in word_count:\n",
    "        dictionary[word[0]] = len(dictionary)\n",
    "    reverse_dictionary = dict(zip(dictionary.values(), dictionary.keys()))\n",
    "    data = list()\n",
    "    for word in input_text:\n",
    "        if(word not in rare_word):\n",
    "            data.append(dictionary[word])\n",
    "        else:\n",
    "            data.append(dictionary[\"UNK\"])\n",
    "\n",
    "    return data,dictionary, reverse_dictionary\n",
    "\n",
    "dataset,dictionary, reverse_dictionary=create_index(tokens)\n"
   ]
  },
  {
   "cell_type": "code",
   "execution_count": 23,
   "metadata": {},
   "outputs": [
    {
     "name": "stdout",
     "output_type": "stream",
     "text": [
      "output sample (dataset): [1, 250, 158, 964, 664, 271, 4, 18, 7987, 664]\n",
      "output sample (dictionary): {'วินทร์': 10988, 'พนัสนิคม': 10578, 'จอร์จ': 8828, 'ทะเล': 266, 'มอบ': 1084, 'ริค': 7466, 'อัศนี': 7911, '1781': 8058, 'ตรงกันข้าม': 2433, 'ขุนนาง': 3450}\n",
      "output sample (reverse dictionary): {0: 'for_keras_zero_padding', 1: 'UNK', 2: 'ที่', 3: 'ใน', 4: 'การ', 5: 'เป็น', 6: 'และ', 7: 'ของ', 8: 'มี', 9: 'ได้'}\n"
     ]
    }
   ],
   "source": [
    "print(\"output sample (dataset):\",dataset[:10])\n",
    "print(\"output sample (dictionary):\",{k: dictionary[k] for k in list(dictionary)[:10]})\n",
    "print(\"output sample (reverse dictionary):\",{k: reverse_dictionary[k] for k in list(reverse_dictionary)[:10]})"
   ]
  },
  {
   "cell_type": "code",
   "execution_count": 24,
   "metadata": {},
   "outputs": [
    {
     "data": {
      "text/plain": [
       "11369"
      ]
     },
     "execution_count": 24,
     "metadata": {},
     "output_type": "execute_result"
    }
   ],
   "source": [
    "len(dictionary)"
   ]
  },
  {
   "cell_type": "markdown",
   "metadata": {},
   "source": [
    "# Step3: Create skip-grams (inputs for your model)\n",
    "Keras has a skipgrams-generator, the cell below shows us how it generates skipgrams \n",
    "\n",
    "## <font color='blue'>Homework Question 3:</font>\n",
    "<font color='blue'>The negative samples are sampled from sampling_table.  Look through Keras source code to find out how they sample negative samples. Discuss the sampling technique taught in class and compare it to the Keras source code.</font>\n",
    "\n"
   ]
  },
  {
   "cell_type": "code",
   "execution_count": 25,
   "metadata": {},
   "outputs": [
    {
     "name": "stdout",
     "output_type": "stream",
     "text": [
      "[[250, 158], [7987, 7360], [964, 158], [7987, 664], [664, 9655], [250, 1], [250, 4558], [7987, 10648], [250, 3612], [7987, 18], [664, 7987], [964, 664], [964, 8929], [964, 6874]] [1, 0, 1, 1, 0, 1, 0, 0, 0, 1, 1, 1, 0, 0]\n",
      "หน้า หลัก\n",
      "มูลนิธิวิกิมี ยูฟ่า\n",
      "วิกิพี หลัก\n",
      "มูลนิธิวิกิมี เดีย\n",
      "เดีย เกรียง\n",
      "หน้า UNK\n",
      "หน้า คลาดเคลื่อน\n",
      "มูลนิธิวิกิมี 1844\n"
     ]
    }
   ],
   "source": [
    "# Step 3: Create data samples\n",
    "vocab_size = len(dictionary)\n",
    "skip_window = 1       # How many words to consider left and right.\n",
    "\n",
    "sample_set= dataset[:10]\n",
    "sampling_table = sequence.make_sampling_table(vocab_size)\n",
    "#TO DO#3 check out keras source code and find out  their sampling technique works\n",
    "couples, labels = skipgrams(sample_set, vocab_size, window_size=skip_window, sampling_table=sampling_table)\n",
    "word_target, word_context = zip(*couples)\n",
    "word_target = np.array(word_target, dtype=\"int32\")\n",
    "word_context = np.array(word_context, dtype=\"int32\")\n",
    "\n",
    "print(couples, labels)\n",
    "\n",
    "for i in range(8):\n",
    "    print(reverse_dictionary[couples[i][0]],reverse_dictionary[couples[i][1]])\n",
    "\n"
   ]
  },
  {
   "cell_type": "markdown",
   "metadata": {},
   "source": [
    "# Step 4: create the skip-gram model\n",
    "## <font color='blue'>Homework Question 4:</font>\n",
    " <font color='blue'>Q4:  In your own words, discuss why Sigmoid is chosen as the activation function in the  skip-gram model.</font>"
   ]
  },
  {
   "cell_type": "code",
   "execution_count": 26,
   "metadata": {},
   "outputs": [
    {
     "name": "stdout",
     "output_type": "stream",
     "text": [
      "____________________________________________________________________________________________________\n",
      "Layer (type)                     Output Shape          Param #     Connected to                     \n",
      "====================================================================================================\n",
      "input_2 (InputLayer)             (None, 1)             0                                            \n",
      "____________________________________________________________________________________________________\n",
      "input_3 (InputLayer)             (None, 1)             0                                            \n",
      "____________________________________________________________________________________________________\n",
      "embedding_2 (Embedding)          (None, 1, 32)         363808      input_2[0][0]                    \n",
      "____________________________________________________________________________________________________\n",
      "embedding_3 (Embedding)          (None, 1, 32)         363808      input_3[0][0]                    \n",
      "____________________________________________________________________________________________________\n",
      "dot_1 (Dot)                      (None, 1, 1)          0           embedding_2[0][0]                \n",
      "                                                                   embedding_3[0][0]                \n",
      "____________________________________________________________________________________________________\n",
      "reshape_1 (Reshape)              (None, 1)             0           dot_1[0][0]                      \n",
      "____________________________________________________________________________________________________\n",
      "activation_1 (Activation)        (None, 1)             0           reshape_1[0][0]                  \n",
      "====================================================================================================\n",
      "Total params: 727,616\n",
      "Trainable params: 727,616\n",
      "Non-trainable params: 0\n",
      "____________________________________________________________________________________________________\n"
     ]
    }
   ],
   "source": [
    "#reference: https://github.com/nzw0301/keras-examples/blob/master/Skip-gram-with-NS.ipynb\n",
    "dim_embedddings = 32\n",
    "V= len(dictionary)\n",
    "\n",
    "#step1: select the embedding of the target word from W\n",
    "w_inputs = Input(shape=(1, ), dtype='int32')\n",
    "w = Embedding(V, dim_embedddings)(w_inputs)\n",
    "\n",
    "#step2: select the embedding of the context word from C\n",
    "c_inputs = Input(shape=(1, ), dtype='int32')\n",
    "c  = Embedding(V, dim_embedddings)(c_inputs)\n",
    "\n",
    "#step3: compute the dot product:c_k*v_j\n",
    "o = Dot(axes=2)([w, c])\n",
    "o = Reshape((1,), input_shape=(1, 1))(o)\n",
    "\n",
    "#step4: normailize dot products into probability\n",
    "o = Activation('sigmoid')(o)\n",
    "#TO DO#4 Question: Why sigmoid?\n",
    "\n",
    "SkipGram = Model(inputs=[w_inputs, c_inputs], outputs=o)\n",
    "SkipGram.summary()\n",
    "opt=Adam(lr=0.01)\n",
    "SkipGram.compile(loss='binary_crossentropy', optimizer=opt)"
   ]
  },
  {
   "cell_type": "code",
   "execution_count": 27,
   "metadata": {},
   "outputs": [
    {
     "name": "stdout",
     "output_type": "stream",
     "text": [
      "0.693152 0\n",
      "0.692977 100000\n",
      "0.692517 200000\n",
      "0.691434 300000\n",
      "0.689378 400000\n",
      "0.68604 500000\n",
      "0.681148 600000\n",
      "0.674465 700000\n",
      "0.665828 800000\n",
      "0.655078 900000\n",
      "0.642116 1000000\n",
      "0.626908 1100000\n",
      "0.609416 1200000\n",
      "0.589825 1300000\n",
      "0.568246 1400000\n",
      "0.544852 1500000\n",
      "0.519962 1600000\n",
      "0.493805 1700000\n",
      "0.467107 0\n",
      "0.439812 100000\n",
      "0.412471 200000\n",
      "0.386278 300000\n",
      "0.360882 400000\n",
      "0.337113 500000\n",
      "0.314994 600000\n",
      "0.295155 700000\n",
      "0.277465 800000\n",
      "0.261988 900000\n",
      "0.248913 1000000\n",
      "0.237958 1100000\n",
      "0.229116 1200000\n",
      "0.221835 1300000\n",
      "0.215353 1400000\n",
      "0.210461 1500000\n",
      "0.206878 1600000\n",
      "0.203827 1700000\n",
      "0.200977 0\n",
      "0.198903 100000\n",
      "0.197375 200000\n",
      "0.196437 300000\n",
      "0.194386 400000\n",
      "0.193162 500000\n",
      "0.191893 600000\n",
      "0.191287 700000\n",
      "0.190664 800000\n",
      "0.189771 900000\n",
      "0.189037 1000000\n",
      "0.188443 1100000\n",
      "0.187519 1200000\n",
      "0.186864 1300000\n",
      "0.18609 1400000\n",
      "0.185888 1500000\n",
      "0.185114 1600000\n",
      "0.184784 1700000\n",
      "0.184573 0\n",
      "0.18386 100000\n",
      "0.183103 200000\n",
      "0.183018 300000\n",
      "0.182624 400000\n",
      "0.182521 500000\n",
      "0.182033 600000\n",
      "0.181867 700000\n",
      "0.181599 800000\n",
      "0.180869 900000\n",
      "0.180855 1000000\n",
      "0.180446 1100000\n",
      "0.180419 1200000\n",
      "0.180117 1300000\n",
      "0.179884 1400000\n",
      "0.17965 1500000\n",
      "0.179308 1600000\n",
      "0.179559 1700000\n",
      "0.179452 0\n",
      "0.178954 100000\n",
      "0.179077 200000\n",
      "0.178896 300000\n",
      "0.177934 400000\n",
      "0.177956 500000\n",
      "0.17774 600000\n",
      "0.1775 700000\n",
      "0.177636 800000\n",
      "0.177379 900000\n",
      "0.177145 1000000\n",
      "0.176935 1100000\n",
      "0.177275 1200000\n",
      "0.176725 1300000\n",
      "0.176411 1400000\n",
      "0.176511 1500000\n",
      "0.176404 1600000\n",
      "0.176258 1700000\n"
     ]
    }
   ],
   "source": [
    "for _ in range(5):\n",
    "    prev_i=0\n",
    "    for i in range(len(dataset)//100000):\n",
    "        data, labels = skipgrams(sequence=dataset[prev_i:i+100000], vocabulary_size=V, window_size=2, negative_samples=4.)\n",
    "        x = [np.array(x) for x in zip(*data)]\n",
    "        y = np.array(labels, dtype=np.int32)\n",
    "        if x:\n",
    "            loss = SkipGram.train_on_batch(x, y)\n",
    "        \n",
    "        print(loss,i*100000)\n"
   ]
  },
  {
   "cell_type": "code",
   "execution_count": 28,
   "metadata": {},
   "outputs": [],
   "source": [
    "SkipGram.save_weights('/data/my_skipgram32_weights-hw-2.h5')"
   ]
  },
  {
   "cell_type": "code",
   "execution_count": 29,
   "metadata": {
    "scrolled": true
   },
   "outputs": [
    {
     "name": "stdout",
     "output_type": "stream",
     "text": [
      "[[ 0.02944878  0.02835652  0.02261914 ..., -0.04168578  0.02521764\n",
      "  -0.01196256]\n",
      " [ 0.41538653  0.45530567  0.3878808  ..., -0.36733899  0.33228037\n",
      "   0.13108106]\n",
      " [ 0.39202163  0.25902838  0.36808804 ..., -0.385396    0.43938246\n",
      "   0.53914845]\n",
      " ..., \n",
      " [-0.01548781 -0.02926621  0.02530651 ...,  0.02567718 -0.04860654\n",
      "   0.01903708]\n",
      " [-0.03085551  0.01204182  0.03593418 ..., -0.02895634 -0.04975002\n",
      "   0.04177368]\n",
      " [-0.01028503 -0.02743011  0.04052659 ..., -0.03901719 -0.03438333\n",
      "  -0.01120623]]\n"
     ]
    }
   ],
   "source": [
    "#Get weight of the embedding layer\n",
    "final_embeddings=SkipGram.get_weights()[0]\n",
    "print(final_embeddings)"
   ]
  },
  {
   "cell_type": "markdown",
   "metadata": {},
   "source": [
    "# Step 5: Visualize the embeddings.\n",
    "## <font color='blue'>Homework Question 5:</font>\n",
    "<font color='blue'> Visualize the model using TSNE(scikit-kearn) and Tensorboard Projector  include the image(s) of your visualization here and discuss what you observe. </font>\n",
    "\n",
    "<font color='red'> Don't forget to include the link to your tensorboard  </font>\n"
   ]
  },
  {
   "cell_type": "code",
   "execution_count": 30,
   "metadata": {},
   "outputs": [
    {
     "data": {
      "image/png": "[encoded data removed]",
      "text/plain": [
       "<matplotlib.figure.Figure at 0x7f6e99ea31d0>"
      ]
     },
     "metadata": {},
     "output_type": "display_data"
    },
    {
     "name": "stdout",
     "output_type": "stream",
     "text": [
      "CPU times: user 21 s, sys: 3.68 s, total: 24.7 s\n",
      "Wall time: 24.9 s\n"
     ]
    },
    {
     "data": {
      "text/plain": [
       "<matplotlib.figure.Figure at 0x7f6e98a76278>"
      ]
     },
     "metadata": {},
     "output_type": "display_data"
    }
   ],
   "source": [
    "%%time\n",
    "from sklearn.manifold import TSNE\n",
    "import matplotlib.pyplot as plt\n",
    "import matplotlib as mpl\n",
    "# Step 5: Visualize the embeddings.\n",
    "# pylint: disable=missing-docstring\n",
    "# Function to draw visualization of distance between embeddings.\n",
    "def plot_with_labels(low_dim_embs, labels, filename=\"tsne_plot.png\"):\n",
    "    assert low_dim_embs.shape[0] >= len(labels), 'More labels than embeddings'\n",
    "    fp = mpl.font_manager.FontProperties(family='TH Sarabun New')\n",
    "    plt.figure(figsize=(18, 18))  # in inches\n",
    "    for i, label in enumerate(labels):\n",
    "        x, y = low_dim_embs[i, :]\n",
    "        plt.scatter(x, y)\n",
    "        plt.annotate(label,\n",
    "                     xy=(x, y),\n",
    "                     xytext=(5, 2),\n",
    "                     textcoords='offset points',\n",
    "                     ha='right',\n",
    "                     va='bottom',\n",
    "                     fontproperties=fp)\n",
    "    plt.show()\n",
    "    plt.savefig(filename)\n",
    "\n",
    "\n",
    "\n",
    "\n",
    "\n",
    "tsne = TSNE(perplexity=30, n_components=2, init='pca', n_iter=2500)\n",
    "plot_only = 500 #only top 500 words\n",
    "low_dim_embs = tsne.fit_transform(final_embeddings[:plot_only, :])\n",
    "labels = [reverse_dictionary[i] for i in range(plot_only)]\n",
    "plot_with_labels(low_dim_embs, labels)\n",
    "\n",
    "# TODO#5:capture the image and tell us what you observe "
   ]
  },
  {
   "cell_type": "code",
   "execution_count": 31,
   "metadata": {
    "collapsed": true
   },
   "outputs": [],
   "source": [
    "#VISUALIZATION ON TENSORBOARD\n",
    "#you need two files to represent data on tensorboard projector\n",
    "#1 weights\n",
    "#2 metadata \n",
    "import csv\n",
    "with open('/data/weights.tsv', 'w') as tsvfile:\n",
    "    writer = csv.writer(tsvfile, delimiter='\\t')\n",
    "    writer.writerows(final_embeddings[:10000])\n",
    "\n",
    "with open('/data/metadata.tsv', 'w') as tsvfile:\n",
    "    for i in range(10000):\n",
    "        tsvfile.write(reverse_dictionary[i]+\"\\n\")"
   ]
  },
  {
   "cell_type": "markdown",
   "metadata": {},
   "source": [
    "# Step 6: Evaluation\n",
    "\n",
    "## <font color='blue'>Homework Question6:</font>\n",
    "<font color='blue'>\n",
    "Use the word embeddings from the skip-gram model as pre-trained weights in a classification model. Compare the result the with the same classification model that does not use the pre-trained weights. \n",
    "</font>\n"
   ]
  },
  {
   "cell_type": "code",
   "execution_count": 32,
   "metadata": {},
   "outputs": [],
   "source": [
    "all_news_filepath = glob.glob('/home/ekapolc/BEST2010/training_set/news/*.txt')\n",
    "all_novel_filepath = glob.glob('/home/ekapolc/BEST2010/training_set/novel/*.txt')\n",
    "all_article_filepath = glob.glob('/home/ekapolc/BEST2010/training_set/article/*.txt')\n",
    "all_encyclopedia_filepath = glob.glob('/home/ekapolc/BEST2010/training_set/encyclopedia/*.txt')"
   ]
  },
  {
   "cell_type": "code",
   "execution_count": 33,
   "metadata": {},
   "outputs": [],
   "source": [
    "#preparing data for the classificaiton model\n",
    "#In your homework, we will only use the first 2000 words in each text file\n",
    "#any text file that has less than 2000 words will be padded\n",
    "#reason:just to make this homework feasible under limited time and resource\n",
    "max_length = 2000\n",
    "def word_to_index(word):\n",
    "    if word in dictionary:\n",
    "        return dictionary[word]\n",
    "    else:#if unknown\n",
    "        return dictionary[\"UNK\"]\n",
    "\n",
    "\n",
    "def prep_data():\n",
    "    input_text = list()\n",
    "    for textfile_path in [all_news_filepath, all_novel_filepath, all_article_filepath, all_encyclopedia_filepath]:\n",
    "        for input_file in textfile_path:\n",
    "            f = open(input_file,\"r\") #open file with name of \"*.txt\"\n",
    "            text = re.sub(r'\\|', ' ', f.read()) # replace separation symbol with white space           \n",
    "            text = re.sub(r'<\\W?\\w+>', '', text)# remove <NE> </NE> <AB> </AB> tags\n",
    "            text = text.split() #split() method without an argument splits on whitespace \n",
    "            indexed_text = list(map(lambda x:word_to_index(x), text[:max_length])) #map raw word string to its index   \n",
    "            if 'news' in input_file:\n",
    "                input_text.append([indexed_text,0]) \n",
    "            elif 'novel' in input_file:\n",
    "                input_text.append([indexed_text,1]) \n",
    "            elif 'article' in input_file:\n",
    "                input_text.append([indexed_text,2]) \n",
    "            elif 'encyclopedia' in input_file:\n",
    "                input_text.append([indexed_text,3]) \n",
    "            \n",
    "            f.close()\n",
    "    random.shuffle(input_text)\n",
    "    return input_text\n",
    "\n",
    "input_data = prep_data()\n",
    "train_data = input_data[:int(len(input_data)*0.6)]\n",
    "val_data = input_data[int(len(input_data)*0.6):int(len(input_data)*0.8)]\n",
    "test_data = input_data[int(len(input_data)*0.8):]\n",
    "\n",
    "train_input = [data[0] for data in train_data]\n",
    "train_input = sequence.pad_sequences(train_input, maxlen=max_length) #padding\n",
    "train_target = [data[1] for data in train_data]\n",
    "train_target=to_categorical(train_target, num_classes=4)\n",
    "\n",
    "\n",
    "\n",
    "val_input = [data[0] for data in val_data]\n",
    "val_input = sequence.pad_sequences(val_input, maxlen=max_length) #padding\n",
    "val_target = [data[1] for data in val_data]\n",
    "val_target=to_categorical(val_target, num_classes=4)\n",
    "\n",
    "test_input = [data[0] for data in test_data]\n",
    "test_input = sequence.pad_sequences(test_input, maxlen=max_length) #padding\n",
    "test_target = [data[1] for data in test_data]\n",
    "test_target=to_categorical(test_target, num_classes=4)\n",
    "\n",
    "del input_data, val_data,train_data, test_data"
   ]
  },
  {
   "cell_type": "code",
   "execution_count": 43,
   "metadata": {},
   "outputs": [
    {
     "name": "stdout",
     "output_type": "stream",
     "text": [
      "_________________________________________________________________\n",
      "Layer (type)                 Output Shape              Param #   \n",
      "=================================================================\n",
      "embedding_6 (Embedding)      (None, 2000, 32)          363808    \n",
      "_________________________________________________________________\n",
      "gru_3 (GRU)                  (None, 32)                6240      \n",
      "_________________________________________________________________\n",
      "dropout_3 (Dropout)          (None, 32)                0         \n",
      "_________________________________________________________________\n",
      "dense_8 (Dense)              (None, 4)                 132       \n",
      "=================================================================\n",
      "Total params: 370,180\n",
      "Trainable params: 370,180\n",
      "Non-trainable params: 0\n",
      "_________________________________________________________________\n"
     ]
    }
   ],
   "source": [
    "#the classification model\n",
    "#TO DO#6 find out how to initialize your embedding layer with pre-trained weights, evaluate and observe\n",
    "#don't forget to compare it with the same model that does not use pre-trained weights\n",
    "#you can use your own model too! and feel free to customize this model as you wish\n",
    "cls_model = Sequential()\n",
    "cls_model.add(Embedding(len(dictionary), 32, input_length=max_length,mask_zero=True))\n",
    "cls_model.add(GRU(32))\n",
    "cls_model.add(Dropout(0.5))\n",
    "cls_model.add(Dense(4, activation='softmax'))\n",
    "opt=Adam(lr=0.01)\n",
    "cls_model.compile(loss='categorical_crossentropy', optimizer=opt, metrics=['accuracy'])\n",
    "cls_model.summary()"
   ]
  },
  {
   "cell_type": "code",
   "execution_count": 44,
   "metadata": {},
   "outputs": [
    {
     "name": "stdout",
     "output_type": "stream",
     "text": [
      "Train...\n",
      "Train on 303 samples, validate on 101 samples\n",
      "Epoch 1/10\n",
      "303/303 [==============================] - 55s - loss: 1.3591 - acc: 0.3300 - val_loss: 1.3087 - val_acc: 0.4158\n",
      "Epoch 2/10\n",
      "303/303 [==============================] - 54s - loss: 1.1883 - acc: 0.4521 - val_loss: 1.1586 - val_acc: 0.5446\n",
      "Epoch 3/10\n",
      "303/303 [==============================] - 54s - loss: 0.6677 - acc: 0.7492 - val_loss: 1.1864 - val_acc: 0.5347\n",
      "Epoch 4/10\n",
      "303/303 [==============================] - 54s - loss: 0.3944 - acc: 0.8812 - val_loss: 1.4125 - val_acc: 0.5149\n",
      "Epoch 5/10\n",
      "303/303 [==============================] - 54s - loss: 0.1561 - acc: 0.9703 - val_loss: 1.4438 - val_acc: 0.6139\n",
      "Epoch 6/10\n",
      "303/303 [==============================] - 55s - loss: 0.0667 - acc: 0.9901 - val_loss: 1.8953 - val_acc: 0.4950\n",
      "Epoch 7/10\n",
      "303/303 [==============================] - 54s - loss: 0.0237 - acc: 0.9967 - val_loss: 2.1949 - val_acc: 0.4950\n",
      "Epoch 8/10\n",
      "303/303 [==============================] - 54s - loss: 0.0072 - acc: 1.0000 - val_loss: 2.2994 - val_acc: 0.5743\n",
      "Epoch 9/10\n",
      "303/303 [==============================] - 54s - loss: 0.0056 - acc: 1.0000 - val_loss: 2.3708 - val_acc: 0.5743\n",
      "Epoch 10/10\n",
      "303/303 [==============================] - 54s - loss: 0.0051 - acc: 1.0000 - val_loss: 2.3487 - val_acc: 0.5644\n"
     ]
    },
    {
     "data": {
      "text/plain": [
       "<keras.callbacks.History at 0x7f6e82748f28>"
      ]
     },
     "execution_count": 44,
     "metadata": {},
     "output_type": "execute_result"
    }
   ],
   "source": [
    "print('Train...')\n",
    "cls_model.fit(train_input, train_target,\n",
    "          epochs=10,\n",
    "          validation_data=[val_input, val_target])"
   ]
  },
  {
   "cell_type": "code",
   "execution_count": 45,
   "metadata": {},
   "outputs": [],
   "source": [
    "SkipGram.load_weights('/data/my_skipgram32_weights-hw-2.h5')"
   ]
  },
  {
   "cell_type": "code",
   "execution_count": 46,
   "metadata": {},
   "outputs": [
    {
     "name": "stdout",
     "output_type": "stream",
     "text": [
      "_________________________________________________________________\n",
      "Layer (type)                 Output Shape              Param #   \n",
      "=================================================================\n",
      "embedding_7 (Embedding)      (None, 2000, 32)          363808    \n",
      "_________________________________________________________________\n",
      "gru_4 (GRU)                  (None, 32)                6240      \n",
      "_________________________________________________________________\n",
      "dropout_4 (Dropout)          (None, 32)                0         \n",
      "_________________________________________________________________\n",
      "dense_9 (Dense)              (None, 4)                 132       \n",
      "=================================================================\n",
      "Total params: 370,180\n",
      "Trainable params: 370,180\n",
      "Non-trainable params: 0\n",
      "_________________________________________________________________\n"
     ]
    }
   ],
   "source": [
    "embedingMod = Embedding(len(dictionary), 32, input_length=max_length,mask_zero=True)\n",
    "embedingMod.build((None,))\n",
    "embedingMod.set_weights([np.array(SkipGram.get_weights()[0])])\n",
    "\n",
    "cls_model_2 = Sequential()\n",
    "cls_model_2.add(embedingMod)\n",
    "cls_model_2.add(GRU(32))\n",
    "cls_model_2.add(Dropout(0.5))\n",
    "cls_model_2.add(Dense(4, activation='softmax'))\n",
    "opt=Adam(lr=0.01)\n",
    "cls_model_2.compile(loss='categorical_crossentropy', optimizer=opt, metrics=['accuracy'])\n",
    "cls_model_2.summary()"
   ]
  },
  {
   "cell_type": "code",
   "execution_count": 47,
   "metadata": {},
   "outputs": [
    {
     "name": "stdout",
     "output_type": "stream",
     "text": [
      "Train... 2\n",
      "Train on 303 samples, validate on 101 samples\n",
      "Epoch 1/10\n",
      "303/303 [==============================] - 55s - loss: 1.3808 - acc: 0.3663 - val_loss: 1.3568 - val_acc: 0.3762\n",
      "Epoch 2/10\n",
      "303/303 [==============================] - 54s - loss: 1.3728 - acc: 0.3234 - val_loss: 1.2916 - val_acc: 0.4158\n",
      "Epoch 3/10\n",
      "303/303 [==============================] - 54s - loss: 1.2607 - acc: 0.4323 - val_loss: 1.2604 - val_acc: 0.4455\n",
      "Epoch 4/10\n",
      "303/303 [==============================] - 54s - loss: 1.0634 - acc: 0.6040 - val_loss: 1.1388 - val_acc: 0.5941\n",
      "Epoch 5/10\n",
      "303/303 [==============================] - 54s - loss: 0.5905 - acc: 0.8152 - val_loss: 0.8810 - val_acc: 0.6733\n",
      "Epoch 6/10\n",
      "303/303 [==============================] - 54s - loss: 0.3227 - acc: 0.8845 - val_loss: 0.7849 - val_acc: 0.6733\n",
      "Epoch 7/10\n",
      "303/303 [==============================] - 54s - loss: 0.1777 - acc: 0.9439 - val_loss: 1.1611 - val_acc: 0.5644\n",
      "Epoch 8/10\n",
      "303/303 [==============================] - 54s - loss: 0.0775 - acc: 0.9901 - val_loss: 0.9648 - val_acc: 0.6832\n",
      "Epoch 9/10\n",
      "303/303 [==============================] - 54s - loss: 0.3104 - acc: 0.9274 - val_loss: 1.4042 - val_acc: 0.4950\n",
      "Epoch 10/10\n",
      "303/303 [==============================] - 54s - loss: 0.1061 - acc: 0.9835 - val_loss: 1.0481 - val_acc: 0.6040\n"
     ]
    },
    {
     "data": {
      "text/plain": [
       "<keras.callbacks.History at 0x7f6e827b2dd8>"
      ]
     },
     "execution_count": 47,
     "metadata": {},
     "output_type": "execute_result"
    }
   ],
   "source": [
    "print('Train... 2')\n",
    "cls_model_2.fit(train_input, train_target,\n",
    "          epochs=10,\n",
    "          validation_data=[val_input, val_target])"
   ]
  },
  {
   "cell_type": "code",
   "execution_count": 52,
   "metadata": {
    "collapsed": true
   },
   "outputs": [],
   "source": [
    "start_dropout_index = 3\n",
    "end_dropout_index = 7 #Exclusive"
   ]
  },
  {
   "cell_type": "code",
   "execution_count": 57,
   "metadata": {
    "scrolled": true
   },
   "outputs": [
    {
     "name": "stdout",
     "output_type": "stream",
     "text": [
      "Training with droput:  0.30000000000000004\n",
      "_________________________________________________________________\n",
      "Layer (type)                 Output Shape              Param #   \n",
      "=================================================================\n",
      "embedding_39 (Embedding)     (None, 2000, 32)          363808    \n",
      "_________________________________________________________________\n",
      "gru_36 (GRU)                 (None, 32)                6240      \n",
      "_________________________________________________________________\n",
      "dropout_36 (Dropout)         (None, 32)                0         \n",
      "_________________________________________________________________\n",
      "dense_41 (Dense)             (None, 4)                 132       \n",
      "=================================================================\n",
      "Total params: 370,180\n",
      "Trainable params: 370,180\n",
      "Non-trainable params: 0\n",
      "_________________________________________________________________\n",
      "Train on 303 samples, validate on 101 samples\n",
      "Epoch 1/5\n",
      "303/303 [==============================] - 57s - loss: 1.3501 - acc: 0.3630 - val_loss: 1.3020 - val_acc: 0.4158\n",
      "Epoch 2/5\n",
      "303/303 [==============================] - 56s - loss: 1.0896 - acc: 0.4983 - val_loss: 1.1356 - val_acc: 0.5842\n",
      "Epoch 3/5\n",
      "303/303 [==============================] - 56s - loss: 0.5269 - acc: 0.8515 - val_loss: 1.2922 - val_acc: 0.5941\n",
      "Epoch 4/5\n",
      "303/303 [==============================] - 55s - loss: 0.1681 - acc: 0.9736 - val_loss: 1.4959 - val_acc: 0.5446\n",
      "Epoch 5/5\n",
      "303/303 [==============================] - 55s - loss: 0.0390 - acc: 0.9934 - val_loss: 1.8855 - val_acc: 0.6040\n",
      "Saving model... [ new_train_0.h5 ]\n",
      "Training with droput:  0.4\n",
      "_________________________________________________________________\n",
      "Layer (type)                 Output Shape              Param #   \n",
      "=================================================================\n",
      "embedding_40 (Embedding)     (None, 2000, 32)          363808    \n",
      "_________________________________________________________________\n",
      "gru_37 (GRU)                 (None, 32)                6240      \n",
      "_________________________________________________________________\n",
      "dropout_37 (Dropout)         (None, 32)                0         \n",
      "_________________________________________________________________\n",
      "dense_42 (Dense)             (None, 4)                 132       \n",
      "=================================================================\n",
      "Total params: 370,180\n",
      "Trainable params: 370,180\n",
      "Non-trainable params: 0\n",
      "_________________________________________________________________\n",
      "Train on 303 samples, validate on 101 samples\n",
      "Epoch 1/5\n",
      "303/303 [==============================] - 56s - loss: 1.3593 - acc: 0.3630 - val_loss: 1.3074 - val_acc: 0.4158\n",
      "Epoch 2/5\n",
      "303/303 [==============================] - 55s - loss: 1.1892 - acc: 0.4323 - val_loss: 1.1430 - val_acc: 0.5446\n",
      "Epoch 3/5\n",
      "303/303 [==============================] - 55s - loss: 0.7303 - acc: 0.7096 - val_loss: 1.1754 - val_acc: 0.5347\n",
      "Epoch 4/5\n",
      "303/303 [==============================] - 54s - loss: 0.3351 - acc: 0.8911 - val_loss: 1.2709 - val_acc: 0.6040\n",
      "Epoch 5/5\n",
      "303/303 [==============================] - 55s - loss: 0.0948 - acc: 0.9934 - val_loss: 1.5204 - val_acc: 0.5446\n",
      "Saving model... [ new_train_1.h5 ]\n",
      "Training with droput:  0.5\n",
      "_________________________________________________________________\n",
      "Layer (type)                 Output Shape              Param #   \n",
      "=================================================================\n",
      "embedding_41 (Embedding)     (None, 2000, 32)          363808    \n",
      "_________________________________________________________________\n",
      "gru_38 (GRU)                 (None, 32)                6240      \n",
      "_________________________________________________________________\n",
      "dropout_38 (Dropout)         (None, 32)                0         \n",
      "_________________________________________________________________\n",
      "dense_43 (Dense)             (None, 4)                 132       \n",
      "=================================================================\n",
      "Total params: 370,180\n",
      "Trainable params: 370,180\n",
      "Non-trainable params: 0\n",
      "_________________________________________________________________\n",
      "Train on 303 samples, validate on 101 samples\n",
      "Epoch 1/5\n",
      "303/303 [==============================] - 55s - loss: 1.3516 - acc: 0.3630 - val_loss: 1.2957 - val_acc: 0.4158\n",
      "Epoch 2/5\n",
      "303/303 [==============================] - 54s - loss: 1.1384 - acc: 0.5314 - val_loss: 1.1397 - val_acc: 0.5347\n",
      "Epoch 3/5\n",
      "303/303 [==============================] - 55s - loss: 0.6580 - acc: 0.7129 - val_loss: 0.8858 - val_acc: 0.6832\n",
      "Epoch 4/5\n",
      "303/303 [==============================] - 55s - loss: 0.2360 - acc: 0.9439 - val_loss: 1.5106 - val_acc: 0.4950\n",
      "Epoch 5/5\n",
      "303/303 [==============================] - 55s - loss: 0.1429 - acc: 0.9703 - val_loss: 1.6046 - val_acc: 0.5743\n",
      "Saving model... [ new_train_2.h5 ]\n",
      "Training with droput:  0.6000000000000001\n",
      "_________________________________________________________________\n",
      "Layer (type)                 Output Shape              Param #   \n",
      "=================================================================\n",
      "embedding_42 (Embedding)     (None, 2000, 32)          363808    \n",
      "_________________________________________________________________\n",
      "gru_39 (GRU)                 (None, 32)                6240      \n",
      "_________________________________________________________________\n",
      "dropout_39 (Dropout)         (None, 32)                0         \n",
      "_________________________________________________________________\n",
      "dense_44 (Dense)             (None, 4)                 132       \n",
      "=================================================================\n",
      "Total params: 370,180\n",
      "Trainable params: 370,180\n",
      "Non-trainable params: 0\n",
      "_________________________________________________________________\n",
      "Train on 303 samples, validate on 101 samples\n",
      "Epoch 1/5\n",
      "303/303 [==============================] - 55s - loss: 1.3673 - acc: 0.3366 - val_loss: 1.3144 - val_acc: 0.4158\n",
      "Epoch 2/5\n",
      "303/303 [==============================] - 53s - loss: 1.2403 - acc: 0.4059 - val_loss: 1.2505 - val_acc: 0.4554\n",
      "Epoch 3/5\n",
      "303/303 [==============================] - 53s - loss: 0.8777 - acc: 0.6700 - val_loss: 1.2699 - val_acc: 0.4257\n",
      "Epoch 4/5\n",
      "303/303 [==============================] - 54s - loss: 0.4897 - acc: 0.9043 - val_loss: 1.3336 - val_acc: 0.4653\n",
      "Epoch 5/5\n",
      "303/303 [==============================] - 54s - loss: 0.2087 - acc: 0.9373 - val_loss: 1.6527 - val_acc: 0.5248\n",
      "Saving model... [ new_train_3.h5 ]\n"
     ]
    }
   ],
   "source": [
    "#Try training in less epoch to avoid overfitting in training set and adjust using dropout\n",
    "#Without pretrained skipgrams model\n",
    "\n",
    "cls_models = []\n",
    "\n",
    "for i in range(start_dropout_index, end_dropout_index):\n",
    "    cls_model = Sequential()\n",
    "    cls_model.add(Embedding(len(dictionary), 32, input_length=max_length,mask_zero=True))\n",
    "    cls_model.add(GRU(32))\n",
    "    cls_model.add(Dropout(0.1*i))\n",
    "    cls_model.add(Dense(4, activation='softmax'))\n",
    "    opt=Adam(lr=0.01)\n",
    "    cls_model.compile(loss='categorical_crossentropy', optimizer=opt, metrics=['accuracy'])\n",
    "    cls_models.append(cls_model)\n",
    "    \n",
    "for (index, cls_model) in enumerate(cls_models):\n",
    "    print('Training with droput: ', (index+start_dropout_index)*0.1)\n",
    "    cls_model.summary()\n",
    "    cls_model.fit(train_input, train_target,\n",
    "              epochs=5,\n",
    "              validation_data=[val_input, val_target])\n",
    "    file_name = \"new_train_\" + str(index) + \".h5\"\n",
    "    print(\"Saving model... [\", file_name ,\"]\")\n",
    "    cls_model.save_weights('/data/skipgrams/new/' + file_name)\n",
    "    "
   ]
  },
  {
   "cell_type": "code",
   "execution_count": 62,
   "metadata": {},
   "outputs": [
    {
     "name": "stdout",
     "output_type": "stream",
     "text": [
      "Training with droput:  0.30000000000000004\n",
      "_________________________________________________________________\n",
      "Layer (type)                 Output Shape              Param #   \n",
      "=================================================================\n",
      "embedding_57 (Embedding)     (None, 2000, 32)          363808    \n",
      "_________________________________________________________________\n",
      "gru_54 (GRU)                 (None, 32)                6240      \n",
      "_________________________________________________________________\n",
      "dropout_54 (Dropout)         (None, 32)                0         \n",
      "_________________________________________________________________\n",
      "dense_59 (Dense)             (None, 4)                 132       \n",
      "=================================================================\n",
      "Total params: 370,180\n",
      "Trainable params: 370,180\n",
      "Non-trainable params: 0\n",
      "_________________________________________________________________\n",
      "Train on 303 samples, validate on 101 samples\n",
      "Epoch 1/5\n",
      "303/303 [==============================] - 56s - loss: 1.4392 - acc: 0.3531 - val_loss: 1.3079 - val_acc: 0.4158\n",
      "Epoch 2/5\n",
      "303/303 [==============================] - 55s - loss: 1.2976 - acc: 0.3927 - val_loss: 1.3059 - val_acc: 0.4356\n",
      "Epoch 3/5\n",
      "303/303 [==============================] - 54s - loss: 1.1968 - acc: 0.4719 - val_loss: 1.2511 - val_acc: 0.4356\n",
      "Epoch 4/5\n",
      "303/303 [==============================] - 55s - loss: 0.9798 - acc: 0.6370 - val_loss: 1.2003 - val_acc: 0.5050\n",
      "Epoch 5/5\n",
      "303/303 [==============================] - 54s - loss: 0.5766 - acc: 0.8449 - val_loss: 0.9104 - val_acc: 0.6040\n",
      "Saving model... [ pre_train_0.h5 ]\n",
      "Training with droput:  0.4\n",
      "_________________________________________________________________\n",
      "Layer (type)                 Output Shape              Param #   \n",
      "=================================================================\n",
      "embedding_58 (Embedding)     (None, 2000, 32)          363808    \n",
      "_________________________________________________________________\n",
      "gru_55 (GRU)                 (None, 32)                6240      \n",
      "_________________________________________________________________\n",
      "dropout_55 (Dropout)         (None, 32)                0         \n",
      "_________________________________________________________________\n",
      "dense_60 (Dense)             (None, 4)                 132       \n",
      "=================================================================\n",
      "Total params: 370,180\n",
      "Trainable params: 370,180\n",
      "Non-trainable params: 0\n",
      "_________________________________________________________________\n",
      "Train on 303 samples, validate on 101 samples\n",
      "Epoch 1/5\n",
      "303/303 [==============================] - 55s - loss: 1.3735 - acc: 0.3135 - val_loss: 1.2894 - val_acc: 0.4158\n",
      "Epoch 2/5\n",
      "303/303 [==============================] - 54s - loss: 1.3376 - acc: 0.3894 - val_loss: 1.2957 - val_acc: 0.4158\n",
      "Epoch 3/5\n",
      "303/303 [==============================] - 54s - loss: 1.2254 - acc: 0.4224 - val_loss: 1.3131 - val_acc: 0.3960\n",
      "Epoch 4/5\n",
      "303/303 [==============================] - 54s - loss: 1.0429 - acc: 0.6469 - val_loss: 1.2543 - val_acc: 0.4356\n",
      "Epoch 5/5\n",
      "303/303 [==============================] - 54s - loss: 0.6639 - acc: 0.7822 - val_loss: 1.4117 - val_acc: 0.3861\n",
      "Saving model... [ pre_train_1.h5 ]\n",
      "Training with droput:  0.5\n",
      "_________________________________________________________________\n",
      "Layer (type)                 Output Shape              Param #   \n",
      "=================================================================\n",
      "embedding_59 (Embedding)     (None, 2000, 32)          363808    \n",
      "_________________________________________________________________\n",
      "gru_56 (GRU)                 (None, 32)                6240      \n",
      "_________________________________________________________________\n",
      "dropout_56 (Dropout)         (None, 32)                0         \n",
      "_________________________________________________________________\n",
      "dense_61 (Dense)             (None, 4)                 132       \n",
      "=================================================================\n",
      "Total params: 370,180\n",
      "Trainable params: 370,180\n",
      "Non-trainable params: 0\n",
      "_________________________________________________________________\n",
      "Train on 303 samples, validate on 101 samples\n",
      "Epoch 1/5\n",
      "303/303 [==============================] - 55s - loss: 1.4203 - acc: 0.3333 - val_loss: 1.2975 - val_acc: 0.4158\n",
      "Epoch 2/5\n",
      "303/303 [==============================] - 54s - loss: 1.3168 - acc: 0.3960 - val_loss: 1.3108 - val_acc: 0.4158\n",
      "Epoch 3/5\n",
      "303/303 [==============================] - 54s - loss: 1.2073 - acc: 0.4752 - val_loss: 1.2753 - val_acc: 0.4158\n",
      "Epoch 4/5\n",
      "303/303 [==============================] - 53s - loss: 0.9915 - acc: 0.6733 - val_loss: 1.2348 - val_acc: 0.4752\n",
      "Epoch 5/5\n",
      "303/303 [==============================] - 54s - loss: 0.6112 - acc: 0.8053 - val_loss: 1.1883 - val_acc: 0.5743\n",
      "Saving model... [ pre_train_2.h5 ]\n",
      "Training with droput:  0.6000000000000001\n",
      "_________________________________________________________________\n",
      "Layer (type)                 Output Shape              Param #   \n",
      "=================================================================\n",
      "embedding_60 (Embedding)     (None, 2000, 32)          363808    \n",
      "_________________________________________________________________\n",
      "gru_57 (GRU)                 (None, 32)                6240      \n",
      "_________________________________________________________________\n",
      "dropout_57 (Dropout)         (None, 32)                0         \n",
      "_________________________________________________________________\n",
      "dense_62 (Dense)             (None, 4)                 132       \n",
      "=================================================================\n",
      "Total params: 370,180\n",
      "Trainable params: 370,180\n",
      "Non-trainable params: 0\n",
      "_________________________________________________________________\n",
      "Train on 303 samples, validate on 101 samples\n",
      "Epoch 1/5\n",
      "303/303 [==============================] - 55s - loss: 1.4411 - acc: 0.3267 - val_loss: 1.4140 - val_acc: 0.2376\n",
      "Epoch 2/5\n",
      "303/303 [==============================] - 53s - loss: 1.3747 - acc: 0.3135 - val_loss: 1.3013 - val_acc: 0.4158\n",
      "Epoch 3/5\n",
      "303/303 [==============================] - 53s - loss: 1.2889 - acc: 0.4587 - val_loss: 1.2779 - val_acc: 0.4356\n",
      "Epoch 4/5\n",
      "303/303 [==============================] - 54s - loss: 1.2148 - acc: 0.4686 - val_loss: 1.3075 - val_acc: 0.4356\n",
      "Epoch 5/5\n",
      "303/303 [==============================] - 53s - loss: 0.9723 - acc: 0.6337 - val_loss: 1.2912 - val_acc: 0.4554\n",
      "Saving model... [ pre_train_3.h5 ]\n"
     ]
    }
   ],
   "source": [
    "#Try training in less epoch to avoid overfitting in training set and adjust using dropout\n",
    "#With pretrained skipgrams model\n",
    "\n",
    "cls_models_2 = []\n",
    "\n",
    "for i in range(start_dropout_index, end_dropout_index):\n",
    "    SkipGram.load_weights('/data/my_skipgram32_weights-hw-2.h5')\n",
    "    embedingMod = Embedding(len(dictionary), 32, input_length=max_length,mask_zero=True)\n",
    "    embedingMod.build((None,))\n",
    "    embedingMod.set_weights([np.array(SkipGram.get_weights()[0])])\n",
    "\n",
    "    cls_model_2 = Sequential()\n",
    "    cls_model_2.add(embedingMod)\n",
    "    cls_model_2.add(GRU(32))\n",
    "    cls_model_2.add(Dropout(0.1*i))\n",
    "    cls_model_2.add(Dense(4, activation='softmax'))\n",
    "    opt=Adam(lr=0.01)\n",
    "    cls_model_2.compile(loss='categorical_crossentropy', optimizer=opt, metrics=['accuracy'])\n",
    "    cls_models_2.append(cls_model_2)\n",
    "    \n",
    "for (index, cls_model_2) in enumerate(cls_models_2):\n",
    "    print('Training with droput: ', (index+start_dropout_index)*0.1)\n",
    "    cls_model_2.summary()\n",
    "    cls_model_2.fit(train_input, train_target,\n",
    "              epochs=5,\n",
    "              validation_data=[val_input, val_target])\n",
    "    file_name = \"pre_train_\" + str(index) + \".h5\"\n",
    "    print(\"Saving model... [\", file_name ,\"]\")\n",
    "    cls_model_2.save_weights('/data/skipgrams/pretrained/' + file_name)"
   ]
  },
  {
   "cell_type": "code",
   "execution_count": 65,
   "metadata": {},
   "outputs": [],
   "source": [
    "#Try changing model with pretrained skipgrams\n",
    "\n",
    "embedingMod3 = Embedding(len(dictionary), 32, input_length=max_length,mask_zero=True)\n",
    "embedingMod3.build((None,))\n",
    "embedingMod3.set_weights([np.array(SkipGram.get_weights()[0])])\n",
    "\n",
    "cls_model_3 = Sequential()\n",
    "cls_model_3.add(embedingMod)\n",
    "cls_model_3.add(Dense(32, activation='relu'))\n",
    "cls_model_3.add(GRU(40))\n",
    "cls_model_3.add(Dropout(0.4))\n",
    "cls_model_3.add(Dense(32, activation='relu'))\n",
    "cls_model_3.add(Dense(4, activation='softmax'))\n",
    "opt=Adam(lr=0.01)\n",
    "cls_model_3.compile(loss='categorical_crossentropy', optimizer=opt, metrics=['accuracy'])"
   ]
  },
  {
   "cell_type": "code",
   "execution_count": 68,
   "metadata": {},
   "outputs": [
    {
     "name": "stdout",
     "output_type": "stream",
     "text": [
      "Train on 303 samples, validate on 101 samples\n",
      "Epoch 1/5\n",
      "303/303 [==============================] - 58s - loss: 1.2885 - acc: 0.3993 - val_loss: 1.3080 - val_acc: 0.4158\n",
      "Epoch 2/5\n",
      "303/303 [==============================] - 57s - loss: 0.8638 - acc: 0.6436 - val_loss: 1.5166 - val_acc: 0.5248\n",
      "Epoch 3/5\n",
      "303/303 [==============================] - 56s - loss: 0.3607 - acc: 0.9010 - val_loss: 2.1680 - val_acc: 0.4950\n",
      "Epoch 4/5\n",
      "303/303 [==============================] - 56s - loss: 0.2013 - acc: 0.9274 - val_loss: 1.9060 - val_acc: 0.5347\n",
      "Epoch 5/5\n",
      "303/303 [==============================] - 56s - loss: 0.1492 - acc: 0.9637 - val_loss: 2.2133 - val_acc: 0.4653\n"
     ]
    },
    {
     "data": {
      "text/plain": [
       "<keras.callbacks.History at 0x7f6e4a9c6940>"
      ]
     },
     "execution_count": 68,
     "metadata": {},
     "output_type": "execute_result"
    }
   ],
   "source": [
    "cls_model_3.fit(train_input, train_target,\n",
    "              epochs=5,\n",
    "              validation_data=[val_input, val_target])"
   ]
  },
  {
   "cell_type": "code",
   "execution_count": 70,
   "metadata": {},
   "outputs": [],
   "source": [
    "#save file\n",
    "\n",
    "import csv\n",
    "\n",
    "for (i, model) in enumerate(cls_models):\n",
    "    with open('/data/skipgrams/new/weights/weights_' + str(i) + '.tsv', 'w') as tsvfile:\n",
    "        writer = csv.writer(tsvfile, delimiter='\\t')\n",
    "        writer.writerows(model.get_weights()[0][:10000])\n",
    "\n",
    "    with open('/data/skipgrams/new/metadata/metadata_' + str(i) + '.tsv', 'w') as tsvfile:\n",
    "        for i in range(10000):\n",
    "            tsvfile.write(reverse_dictionary[i]+\"\\n\")"
   ]
  },
  {
   "cell_type": "code",
   "execution_count": 71,
   "metadata": {
    "collapsed": true
   },
   "outputs": [],
   "source": [
    "for (i, model) in enumerate(cls_models_2):\n",
    "    with open('/data/skipgrams/pretrained/weights/weights_' + str(i) + '.tsv', 'w') as tsvfile:\n",
    "        writer = csv.writer(tsvfile, delimiter='\\t')\n",
    "        writer.writerows(model.get_weights()[0][:10000])\n",
    "\n",
    "    with open('/data/skipgrams/pretrained/metadata/metadata_' + str(i) + '.tsv', 'w') as tsvfile:\n",
    "        for i in range(10000):\n",
    "            tsvfile.write(reverse_dictionary[i]+\"\\n\")"
   ]
  },
  {
   "cell_type": "code",
   "execution_count": 72,
   "metadata": {
    "collapsed": true
   },
   "outputs": [],
   "source": [
    "with open('/data/skipgrams/new_weights.tsv', 'w') as tsvfile:\n",
    "    writer = csv.writer(tsvfile, delimiter='\\t')\n",
    "    writer.writerows(cls_model_2.get_weights()[0][:10000])\n",
    "\n",
    "with open('/data/skipgrams/new_metadata.tsv', 'w') as tsvfile:\n",
    "    for i in range(10000):\n",
    "        tsvfile.write(reverse_dictionary[i]+\"\\n\")"
   ]
  },
  {
   "cell_type": "code",
   "execution_count": 73,
   "metadata": {
    "collapsed": true
   },
   "outputs": [],
   "source": [
    "with open('/data/skipgrams/new_trained/weights.tsv', 'w') as tsvfile:\n",
    "    writer = csv.writer(tsvfile, delimiter='\\t')\n",
    "    writer.writerows(cls_model.get_weights()[0][:10000])\n",
    "\n",
    "with open('/data/skipgrams/new_trained/metadata.tsv', 'w') as tsvfile:\n",
    "    for i in range(10000):\n",
    "        tsvfile.write(reverse_dictionary[i]+\"\\n\")"
   ]
  },
  {
   "cell_type": "code",
   "execution_count": null,
   "metadata": {
    "collapsed": true
   },
   "outputs": [],
   "source": []
  }
 ],
 "metadata": {
  "anaconda-cloud": {},
  "kernelspec": {
   "display_name": "Python 3",
   "language": "python",
   "name": "python3"
  },
  "language_info": {
   "codemirror_mode": {
    "name": "ipython",
    "version": 3
   },
   "file_extension": ".py",
   "mimetype": "text/x-python",
   "name": "python",
   "nbconvert_exporter": "python",
   "pygments_lexer": "ipython3",
   "version": "3.6.4"
  }
 },
 "nbformat": 4,
 "nbformat_minor": 1
}
