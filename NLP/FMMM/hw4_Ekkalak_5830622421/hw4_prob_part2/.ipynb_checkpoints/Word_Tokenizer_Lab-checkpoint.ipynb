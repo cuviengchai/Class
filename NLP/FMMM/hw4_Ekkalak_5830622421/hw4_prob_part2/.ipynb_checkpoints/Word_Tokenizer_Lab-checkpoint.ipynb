{
 "cells": [
  {
   "cell_type": "markdown",
   "metadata": {},
   "source": [
    "## Word Tokenizer exercise##\n",
    "\n",
    "In this exercise, you are going to build a set of deep learning models on a (sort of) real world task using Tensorflow and Keras. Tensorflow is a deep learning framwork developed by Google, and Keras is a frontend library built on top of Tensorflow (or Theano, CNTK) to provide an easier way to use standard layers and networks.\n",
    "\n",
    "To complete this exercise, you will need to build deep learning models for word tokenization in Thai (แบ่งเว้นวรรคภาษาไทย) using NECTEC's BEST corpus. You will build one model for each of the following type:\n",
    "- Fully Connected (Feedforward) Neural Network\n",
    "- One-Dimentional Convolution Neural Network (1D-CNN)\n",
    "- Recurrent Neural Network with Gated Recurrent Unit (GRU)\n",
    "\n",
    "and one more model of your choice to achieve the highest score possible.\n",
    "\n",
    "We provide the code for data cleaning and some starter code for keras in this notebook but feel free to modify those parts to suit your needs. You can also complete this exercise using only Tensorflow (without using Keras). Feel free to use additional libraries (e.g. scikit-learn) as long as you have a model for each type mentioned above.\n",
    "\n",
    "This notebook assumes you have already installed Tensorflow and Keras with python3 and had GPU enabled. If you run this exercise on GCloud using the provided disk image you are all set.\n",
    "\n",
    "As a reminder,\n",
    "\n",
    "### Don't forget to shut down your instance on Gcloud when you are not using it ###"
   ]
  },
  {
   "cell_type": "code",
   "execution_count": 1,
   "metadata": {
    "collapsed": true
   },
   "outputs": [],
   "source": [
    "# Run setup code\n",
    "import os\n",
    "import numpy as np\n",
    "import pandas as pd\n",
    "import matplotlib.pyplot as plt\n",
    "%matplotlib inline"
   ]
  },
  {
   "cell_type": "code",
   "execution_count": 2,
   "metadata": {
    "collapsed": true
   },
   "outputs": [],
   "source": [
    "# Prepare data\n",
    "# You don't need to run the following code as we already did it for you to give everyone the same dataset\n",
    "# import cattern.data_utils\n",
    "# cattern.data_utils.generate_best_dataset(os.getcwd()+'/data', create_val=True)"
   ]
  },
  {
   "cell_type": "markdown",
   "metadata": {},
   "source": [
    "For simplicity, we are going to build a word tokenization model which is a binary classification model trying to predict whether a character is the begining of the word or not (if it is, then there is a space in front of it) and without using any knowledge about type of character (vowel, number, English character etc.).\n",
    "\n",
    "For example,\n",
    "\n",
    "'แมวดำน่ารักมาก' -> 'แมว ดำ น่า รัก มาก'\n",
    "\n",
    "will have these true labels:\n",
    "\n",
    "[(แ,1), (ม,0), (ว,0) (ด,1), ( ำ,0), (น,1), (-่,0), (า,0), (ร,1), (-ั,0), (ก,0), (ม,1), (า,0), (ก,0)]\n",
    "\n",
    "In this task, we will use only main character you are trying to predict  and the characters that surround it (the context) as features. However, you can imagine that a more complex model will try to include more knowledge about each character into the model. You can do that too if you feel like it."
   ]
  },
  {
   "cell_type": "code",
   "execution_count": 3,
   "metadata": {
    "collapsed": true
   },
   "outputs": [],
   "source": [
    "# Create a character map\n",
    "CHARS = [\n",
    "  '\\n', ' ', '!', '\"', '#', '$', '%', '&', \"'\", '(', ')', '*', '+',\n",
    "  ',', '-', '.', '/', '0', '1', '2', '3', '4', '5', '6', '7', '8',\n",
    "  '9', ':', ';', '<', '=', '>', '?', '@', 'A', 'B', 'C', 'D', 'E',\n",
    "  'F', 'G', 'H', 'I', 'J', 'K', 'L', 'M', 'N', 'O', 'P', 'Q', 'R',\n",
    "  'S', 'T', 'U', 'V', 'W', 'X', 'Y', 'Z', '[', '\\\\', ']', '^', '_',\n",
    "  'a', 'b', 'c', 'd', 'e', 'f', 'g', 'h', 'i', 'j', 'k', 'l', 'm',\n",
    "  'n', 'o', 'other', 'p', 'q', 'r', 's', 't', 'u', 'v', 'w', 'x', 'y',\n",
    "  'z', '}', '~', 'ก', 'ข', 'ฃ', 'ค', 'ฅ', 'ฆ', 'ง', 'จ', 'ฉ', 'ช',\n",
    "  'ซ', 'ฌ', 'ญ', 'ฎ', 'ฏ', 'ฐ', 'ฑ', 'ฒ', 'ณ', 'ด', 'ต', 'ถ', 'ท',\n",
    "  'ธ', 'น', 'บ', 'ป', 'ผ', 'ฝ', 'พ', 'ฟ', 'ภ', 'ม', 'ย', 'ร', 'ฤ',\n",
    "  'ล', 'ว', 'ศ', 'ษ', 'ส', 'ห', 'ฬ', 'อ', 'ฮ', 'ฯ', 'ะ', 'ั', 'า',\n",
    "  'ำ', 'ิ', 'ี', 'ึ', 'ื', 'ุ', 'ู', 'ฺ', 'เ', 'แ', 'โ', 'ใ', 'ไ',\n",
    "  'ๅ', 'ๆ', '็', '่', '้', '๊', '๋', '์', 'ํ', '๐', '๑', '๒', '๓',\n",
    "  '๔', '๕', '๖', '๗', '๘', '๙', '‘', '’', '\\ufeff'\n",
    "]\n",
    "CHARS_MAP = {v: k for k, v in enumerate(CHARS)}"
   ]
  },
  {
   "cell_type": "code",
   "execution_count": 4,
   "metadata": {
    "collapsed": true
   },
   "outputs": [],
   "source": [
    "def create_n_gram_df(df, n_pad):\n",
    "  \"\"\"\n",
    "  Given an input dataframe, create a feature dataframe of shifted characters\n",
    "  Input:\n",
    "  df: timeseries of size (N)\n",
    "  n_pad: the number of context. For a given character at position [idx],\n",
    "    character at position [idx-n_pad/2 : idx+n_pad/2] will be used \n",
    "    as features for that character.\n",
    "  \n",
    "  Output:\n",
    "  dataframe of size (N * n_pad) which each row contains the character, \n",
    "    n_pad_2 characters to the left, and n_pad_2 characters to the right\n",
    "    of that character.\n",
    "  \"\"\"\n",
    "  n_pad_2 = int((n_pad - 1)/2)\n",
    "  for i in range(n_pad_2):\n",
    "      df['char-{}'.format(i+1)] = df['char'].shift(i + 1)\n",
    "      df['char{}'.format(i+1)] = df['char'].shift(-i - 1)\n",
    "  return df[n_pad_2: -n_pad_2]"
   ]
  },
  {
   "cell_type": "code",
   "execution_count": 5,
   "metadata": {
    "collapsed": true
   },
   "outputs": [],
   "source": [
    "def prepare_feature(best_processed_path, option='train'):\n",
    "  \"\"\"\n",
    "  Transform the path to a directory containing processed files \n",
    "  into a feature matrix and output array\n",
    "  Input:\n",
    "  best_processed_path: str, path to a processed version of the BEST dataset\n",
    "  option: str, 'train' or 'test'\n",
    "  \"\"\"\n",
    "  # we use padding equals 21 here to consider 10 characters to the left\n",
    "  # and 10 characters to the right as features for the character in the middle\n",
    "  n_pad = 21\n",
    "  n_pad_2 = int((n_pad - 1)/2)\n",
    "  pad = [{'char': ' ', 'target': True}]\n",
    "  df_pad = pd.DataFrame(pad * n_pad_2)\n",
    "\n",
    "  df = []\n",
    "  # article types in BEST corpus\n",
    "  article_types = ['article', 'encyclopedia', 'news', 'novel']\n",
    "  for article_type in article_types:\n",
    "      df.append(pd.read_csv(os.path.join(best_processed_path, option, 'df_best_{}_{}.csv'.format(article_type, option))))\n",
    "  \n",
    "  df = pd.concat(df)\n",
    "  # pad with empty string feature\n",
    "  df = pd.concat((df_pad, df, df_pad))\n",
    "\n",
    "  # map characters to numbers, use 'other' if not in the predefined character set.\n",
    "  df['char'] = df['char'].map(lambda x: CHARS_MAP.get(x, 80))\n",
    "\n",
    "  # Use nearby characters as features\n",
    "  df_with_context = create_n_gram_df(df, n_pad=n_pad)\n",
    "\n",
    "  char_row = ['char' + str(i + 1) for i in range(n_pad_2)] + \\\n",
    "             ['char-' + str(i + 1) for i in range(n_pad_2)] + ['char']\n",
    "\n",
    "  # convert pandas dataframe to numpy array to feed to the model\n",
    "  x_char = df_with_context[char_row].as_matrix()\n",
    "  y = df_with_context['target'].astype(int).as_matrix()\n",
    "\n",
    "  return x_char, y"
   ]
  },
  {
   "cell_type": "markdown",
   "metadata": {},
   "source": [
    "Before running the following commands, we must inform you that our data is quite large and loading the whole dataset at once will **use a lot of memory (~6 GB after processing and up to ~12GB while processing)**. We expect you to be running this on Google Cloud so that you will not run into this problem. But, if, for any reason, you have to run this on your PC or machine with not enough memory, you might need to write a data generator to process a few entries at a time then feed it to the model while training.\n",
    "\n",
    "For keras, you can use [fit_generator](https://keras.io/getting-started/faq/#how-can-i-use-keras-with-datasets-that-dont-fit-in-memory) to cope with that."
   ]
  },
  {
   "cell_type": "code",
   "execution_count": 6,
   "metadata": {
    "collapsed": true
   },
   "outputs": [],
   "source": [
    "# Path to the preprocessed data\n",
    "best_processed_path = 'cleaned_data'"
   ]
  },
  {
   "cell_type": "code",
   "execution_count": 7,
   "metadata": {},
   "outputs": [
    {
     "name": "stdout",
     "output_type": "stream",
     "text": [
      "Training data shape:  (16461637, 21)\n",
      "Training data labels shape:  (16461637,)\n",
      "Validation data shape:  (2035694, 21)\n",
      "Validation data labels shape:  (2035694,)\n",
      "Test data shape:  (2271932, 21)\n",
      "Test data labels shape:  (2271932,)\n"
     ]
    }
   ],
   "source": [
    "# Load preprocessed BEST corpus\n",
    "x_train_char, y_train = prepare_feature(best_processed_path, option='train')\n",
    "x_val_char, y_val = prepare_feature(best_processed_path, option='val')\n",
    "x_test_char, y_test = prepare_feature(best_processed_path, option='test')\n",
    "\n",
    "# As a sanity check, we print out the size of the training, val, and test data.\n",
    "print('Training data shape: ', x_train_char.shape)\n",
    "print('Training data labels shape: ', y_train.shape)\n",
    "print('Validation data shape: ', x_val_char.shape)\n",
    "print('Validation data labels shape: ', y_val.shape)\n",
    "print('Test data shape: ', x_test_char.shape)\n",
    "print('Test data labels shape: ', y_test.shape)"
   ]
  },
  {
   "cell_type": "code",
   "execution_count": 8,
   "metadata": {
    "scrolled": true
   },
   "outputs": [
    {
     "name": "stdout",
     "output_type": "stream",
     "text": [
      "First 3 features:  [[ 112.  140.  114.  148.  130.  142.   94.  142.  128.  128.    1.    1.\n",
      "     1.    1.    1.    1.    1.    1.    1.    1.   97.]\n",
      " [ 140.  114.  148.  130.  142.   94.  142.  128.  128.  141.   97.    1.\n",
      "     1.    1.    1.    1.    1.    1.    1.    1.  112.]\n",
      " [ 114.  148.  130.  142.   94.  142.  128.  128.  141.  109.  112.   97.\n",
      "     1.    1.    1.    1.    1.    1.    1.    1.  140.]]\n",
      "First 30 class labels [1 0 0 0 0 0 0 0 0 0 0 0 0 0 0 0 0 0 0 0 1 0 0 1 0 0 0 1 0 0]\n"
     ]
    }
   ],
   "source": [
    "# Print some entry from the data to make sure it is the same as what you think.\n",
    "print('First 3 features: ', x_train_char[:3])\n",
    "print('First 30 class labels', y_train[:30])"
   ]
  },
  {
   "cell_type": "markdown",
   "metadata": {},
   "source": [
    "Now, you are going to define the model to be used as your classifier. If you are using Keras, please follow the guideline we provide below. We encourage you to use the Keras Funtional API instead of the Sequential model as it is easier to create complex models (and to read your code). You can find more about Keras Functional API on Keras [documentation](https://keras.io/getting-started/functional-api-guide/).\n",
    "\n",
    "You need to create a function that return a model you want and write code that invoke _**model.fit**_ to train your model. For example, your function ***get_nn()*** might looks like this:\n",
    "\n",
    "```python\n",
    "def get_nn():\n",
    "  input1 = Input(...)\n",
    "  ...\n",
    "  # Create your wonderful model.\n",
    "  ...\n",
    "  out = ...\n",
    "  model = Model(inputs=input1, outputs=out)\n",
    "  model.compile(...)\n",
    "return model\n",
    "```\n",
    "\n",
    "Also, beware that complex model requires more time to train and your dataset is already quite large. We tested it with a simple 1-hidden-layered feedforward nueral network and it used ~10 mins to train 1 epoch. It got more than 95% accuracy on validation set after the first epoch, so you should aim for a model with accuracy around 96-98%."
   ]
  },
  {
   "cell_type": "markdown",
   "metadata": {},
   "source": [
    "# Three-Layer Feedforward Neural Networks\n",
    "\n",
    "Below, we provide you the code for creating a 3-layer fully connected neural network in keras. This will also serve as the baseline for your other models. Run the code below while making sure you understand what you are doing. Then, report the results."
   ]
  },
  {
   "cell_type": "code",
   "execution_count": 9,
   "metadata": {},
   "outputs": [
    {
     "name": "stderr",
     "output_type": "stream",
     "text": [
      "Using TensorFlow backend.\n"
     ]
    }
   ],
   "source": [
    "from keras.models import Model\n",
    "from keras.layers import Input, Dense\n",
    "from keras.optimizers import Adam\n",
    "\n",
    "def get_feedforward_nn():\n",
    "  input1 = Input(shape=(21,))\n",
    "  x = Dense(100, activation='relu')(input1)\n",
    "  x = Dense(100, activation='relu')(x)\n",
    "  x = Dense(100, activation='relu')(x)\n",
    "  out = Dense(1, activation='sigmoid')(x)\n",
    "\n",
    "  model = Model(inputs=input1, outputs=out)\n",
    "  model.compile(optimizer=Adam(),\n",
    "                loss='binary_crossentropy',\n",
    "                metrics=['acc'])\n",
    "  return model"
   ]
  },
  {
   "cell_type": "code",
   "execution_count": 28,
   "metadata": {},
   "outputs": [
    {
     "name": "stdout",
     "output_type": "stream",
     "text": [
      "start training\n",
      "train with 7 epochs and 300 batch size\n",
      "Train on 16461637 samples, validate on 2035694 samples\n",
      "Epoch 1/7\n",
      "16461637/16461637 [==============================] - 252s - loss: 0.3342 - acc: 0.8544 - val_loss: 0.2818 - val_acc: 0.8789\n",
      "Epoch 2/7\n",
      "16461637/16461637 [==============================] - 252s - loss: 0.2660 - acc: 0.8874 - val_loss: 0.2575 - val_acc: 0.8905\n",
      "Epoch 3/7\n",
      "16461637/16461637 [==============================] - 251s - loss: 0.2500 - acc: 0.8952 - val_loss: 0.2522 - val_acc: 0.8943\n",
      "Epoch 4/7\n",
      "16461637/16461637 [==============================] - 251s - loss: 0.2399 - acc: 0.9001 - val_loss: 0.2378 - val_acc: 0.9016\n",
      "Epoch 5/7\n",
      "16461637/16461637 [==============================] - 250s - loss: 0.2334 - acc: 0.9034 - val_loss: 0.2308 - val_acc: 0.9045\n",
      "Epoch 6/7\n",
      "16461637/16461637 [==============================] - 251s - loss: 0.2279 - acc: 0.9059 - val_loss: 0.2333 - val_acc: 0.9028\n",
      "Epoch 7/7\n",
      "16461637/16461637 [==============================] - 249s - loss: 0.2236 - acc: 0.9079 - val_loss: 0.2272 - val_acc: 0.9059\n"
     ]
    }
   ],
   "source": [
    "from keras.callbacks import ModelCheckpoint, TensorBoard\n",
    "\n",
    "# This is called to clear the original model session in order to use TensorBoard\n",
    "from keras import backend as K\n",
    "K.clear_session()\n",
    "\n",
    "# Path to save model parameters\n",
    "weight_path_feedforward_nn='./data/model_weight_feedforward_nn.h5'\n",
    "\n",
    "# Training callbacks list\n",
    "callbacks_list_feedforward_nn = [\n",
    "        TensorBoard(log_dir='./data/Graph/ff', histogram_freq=1, write_graph=True, write_grads=True),\n",
    "        ModelCheckpoint(\n",
    "            weight_path_feedforward_nn,\n",
    "            save_best_only=True,\n",
    "            save_weights_only=True,\n",
    "            monitor='val_loss',\n",
    "            mode='min',\n",
    "            verbose=1\n",
    "        )\n",
    "  ]\n",
    "\n",
    "print('start training')\n",
    "verbose = 1\n",
    "model_feedforward_nn = get_feedforward_nn()\n",
    "train_params = [(7, 300)]\n",
    "for (epochs, batch_size) in train_params:\n",
    "  print(\"train with {} epochs and {} batch size\".format(epochs, batch_size))\n",
    "  model_feedforward_nn.fit(x_train_char, y_train, epochs=epochs, batch_size=batch_size, verbose=verbose,\n",
    "                           #callbacks=callbacks_list_feedforward_nn,\n",
    "                           validation_data=(x_val_char, y_val))"
   ]
  },
  {
   "cell_type": "code",
   "execution_count": 10,
   "metadata": {
    "collapsed": true
   },
   "outputs": [],
   "source": [
    "################################################################################\n",
    "# TODO#1:                                                                        #\n",
    "# Write a function to evaluate your model. Your function must make prediction  #\n",
    "# using the input model and return f-score, precision, and recall of the model.#\n",
    "# You can make predictions by calling model.predict().                         #\n",
    "#                                                                              #\n",
    "# Hint: sklearn.metrics has these functions available for you.                 #\n",
    "################################################################################\n",
    "def evaluate(x_test, y_test, model):\n",
    "  \"\"\"\n",
    "  Evaluate model on splitted 10 percent testing set.\n",
    "  \"\"\"\n",
    "  d = lambda x: 1 if x >0.5 else 0\n",
    "  d = np.vectorize(d)\n",
    "  prediction = model.predict(x_test)\n",
    "  prediction = d(prediction)\n",
    "  prediction = prediction.reshape(y_test.shape[0])\n",
    "  import sklearn.metrics as metrics\n",
    "  f1score = metrics.f1_score(y_test, prediction)\n",
    "  precision = metrics.precision_score(y_test, prediction)\n",
    "  recall = metrics.recall_score(y_test, prediction)\n",
    "  return f1score, precision, recall"
   ]
  },
  {
   "cell_type": "code",
   "execution_count": 12,
   "metadata": {
    "collapsed": true
   },
   "outputs": [],
   "source": [
    "prediction = model_feedforward_nn.predict(x_test_char)"
   ]
  },
  {
   "cell_type": "code",
   "execution_count": 13,
   "metadata": {},
   "outputs": [
    {
     "data": {
      "text/plain": [
       "(0.81366509240861484, 0.85962330627594319, 0.77237163234841122)"
      ]
     },
     "execution_count": 13,
     "metadata": {},
     "output_type": "execute_result"
    }
   ],
   "source": [
    "evaluate(x_test_char, y_test, model_feedforward_nn)"
   ]
  },
  {
   "cell_type": "markdown",
   "metadata": {},
   "source": [
    "# Debugging\n",
    "\n",
    "In order to understand what is going on in your model and where the error is, you should try looking at the inputs your model made wrong predictions.\n",
    "\n",
    "In this task, write a function to print the characters on test data that got wrong prediction along with its context of size 10 (from [x-10] to [x+10]). Examine a fews of those and write your assumption on where the model got wrong prediction."
   ]
  },
  {
   "cell_type": "code",
   "execution_count": 30,
   "metadata": {
    "collapsed": true
   },
   "outputs": [],
   "source": [
    "def get_char(index):\n",
    "    return CHARS[int(index)]"
   ]
  },
  {
   "cell_type": "code",
   "execution_count": 15,
   "metadata": {
    "collapsed": true
   },
   "outputs": [],
   "source": [
    "# TODO#2\n",
    "# Write code to show a few of the errors the models made.\n",
    "def check_error(x_test, y_test, model, n_sample, prediction = None):\n",
    "    if prediction is None:\n",
    "        prediction = model.predict(x_test)\n",
    "    d = lambda x: 1 if x >0.5 else 0\n",
    "    d = np.vectorize(d)\n",
    "\n",
    "    prediction = d(prediction)\n",
    "    prediction = prediction.reshape(y_test.shape[0])\n",
    "    N = len(y_test)\n",
    "    count_error = 0\n",
    "    i = 0\n",
    "    while(count_error < n_sample and i < N):\n",
    "        \n",
    "        if (prediction[i] != y_test[i]):\n",
    "            print( y_test[i], prediction[i])\n",
    "            p = \"\"\n",
    "            f = max(0,i-10)\n",
    "            b = min(i+10,N)\n",
    "            for j in range(f,b):\n",
    "                p+=get_char(x_test[j][0])\n",
    "            print('wrong at : ',get_char(x_test[i][0])+\"    =>\",p)\n",
    "            count_error+=1\n",
    "        i+=1\n",
    "        "
   ]
  },
  {
   "cell_type": "code",
   "execution_count": 16,
   "metadata": {},
   "outputs": [
    {
     "name": "stdout",
     "output_type": "stream",
     "text": [
      "1 0\n",
      "wrong at :  ั    => ทางกระบวนทัศน์และบริ\n",
      "0 1\n",
      "wrong at :  ิ    => ทัศน์และบริบทสังคมไท\n",
      "1 0\n",
      "wrong at :  ท    => ริบทสังคมไทยThe Refo\n",
      "1 0\n",
      "wrong at :  A    => tion from A Thai Per\n",
      "1 0\n",
      "wrong at :  ั    => iveกระบวนทัศน์และวิธ\n",
      "1 0\n",
      "wrong at :  ย    => ิธีคิดแบบแยกส่วน ลดส\n",
      "1 0\n",
      "wrong at :  ่    => คิดแบบแยกส่วน ลดส่วน\n",
      "1 0\n",
      "wrong at :  ่    => ยกส่วน ลดส่วน ได้ทำใ\n",
      "1 0\n",
      "wrong at :  ห    => ่วน ได้ทำให้\"การศึกษ\n",
      "1 0\n",
      "wrong at :  ศ    => ้\"ใน หลายทศวรรษที่ผ่\n",
      "1 0\n",
      "wrong at :  ร    => ่องของโรงเรียน ครูอา\n",
      "0 1\n",
      "wrong at :  า    => เนื่องยาวนาน (เหมือน\n",
      "1 0\n",
      "wrong at :  ร    => งแพทย์และโรงพยาบาล) \n",
      "1 0\n",
      "wrong at :  า    => ดการศึกษาภายใต้กระบว\n",
      "1 0\n",
      "wrong at :  ั    => ใต้กระบวนทัศน์และวิธ\n",
      "1 0\n",
      "wrong at :  บ    => ละวิธีคิดแบบดังกล่าว\n",
      "1 0\n",
      "wrong at :  ิ    => ัฐ ได้ถูกวิพากษ์วิจา\n",
      "0 1\n",
      "wrong at :  ิ    => ูกวิพากษ์วิจารณ์และต\n",
      "0 1\n",
      "wrong at :  า    => วิพากษ์วิจารณ์และตกเ\n",
      "1 0\n",
      "wrong at :  ก    => ิจารณ์และตกเป็นจำเลย\n"
     ]
    }
   ],
   "source": [
    "check_error(x_test_char,y_test, model_feedforward_nn, 20,prediction)"
   ]
  },
  {
   "cell_type": "markdown",
   "metadata": {},
   "source": [
    "# Write your answer here\n",
    "\n",
    "**Your answer**: TODO#3\n",
    "1. อักขระที่ไม่อยู่ในแถว (ล่าง, บน)\n",
    "1. คำที่ติดกับภาษาต่างประเทศ\n",
    "1. ตัวอักษรที่ไม่ได้ใช่บ่อยๆ เช่น ศ"
   ]
  },
  {
   "cell_type": "markdown",
   "metadata": {},
   "source": [
    "# Tensorboard #\n",
    "The code provided also have Tensorboard (a visualization tool that comes with Tensorflow). Note the part that calls it `TensorBoard(log_dir='./Graph/' + graph_name, histogram_freq=1, write_graph=True, write_grads=True)`. This tells Tensorflow to write extra outputs to the `log_dir` which can then be used for visualization.\n",
    "\n",
    "To start tensorboard do\n",
    "```\n",
    "tensorboard --logdir=/full_path_to_your_logs\n",
    "```\n",
    "from the commandline. This will launch tensorboard, you will be able to access it from a web browser by pointint the url to `<instance-ip>:6006`. You will need to enable additional firewall rules in Gcloud for this.\n",
    "\n",
    "In Tensorboard, you will be able to debug your computation graph which can be hard to keep track in code. This is might seem trivial in Keras, but it is very helpful for Tensorflow. You can see a visualization of the computation graph at the `GRAPH` tab. If you see multiple dense layers (more than 4), this is caused by running the code several times without deleting the log dir. Delete the log dir and re-run the code.\n",
    "\n",
    "Next, let's look at the scalars tab, we can see the loss and accuracy on the training and validation set as they change over each epoch. This can be useful to detect overfitting.\n",
    "\n",
    "Another useful tab is the histograms tab. This plot histograms of the weights, biases, and outputs of each layer. The depth of the histograms show the change over epochs. We can see how the histograms of weights change over the training peroid. This can be used to debug vanishing gradients or getting stuck in local minimas.\n",
    "\n",
    "There are other useful tabs in Tensorboard, you can read about them in the Keras [documentation](https://keras.io/callbacks/#tensorboard) for tensorboard."
   ]
  },
  {
   "cell_type": "markdown",
   "metadata": {},
   "source": [
    "# Tensorboard observation\n",
    "\n",
    "Write your own interpretation of the logs from this example. A simple sentence or two for each tab is sufficient.\n",
    "\n",
    "**Your answer**: TODO#4\n",
    "## 1. Graphs\n",
    "\n",
    "show computational graph for model we define\n",
    "\n",
    "## 2. Histogram\n",
    "\n",
    "แสดงถึง การเปลี่ยนแปลงของน้ำหนัก ในแต่ละ epoc\n",
    "\n",
    "## 3. Scalar\n",
    "\n",
    "แสดงการ เปลี่ยนแปลงของค่า loss accuracy\n"
   ]
  },
  {
   "cell_type": "markdown",
   "metadata": {},
   "source": [
    "# Dropout\n",
    "\n",
    "You might notice that the 3-layered feedforward does not use dropout at all. Now, try adding dropout to the model, run, and report the result again."
   ]
  },
  {
   "cell_type": "code",
   "execution_count": 35,
   "metadata": {
    "collapsed": true
   },
   "outputs": [],
   "source": [
    "from keras.models import Model\n",
    "from keras.layers import Input, Dense, Dropout\n",
    "from keras.optimizers import Adam\n",
    "\n",
    "# TODO#4\n",
    "# Write a function that return feedforward model with dropout\n",
    "def get_nn_with_dropout(drop_rate=0.1):\n",
    "  input1 = Input(shape=(21,))\n",
    "  x = Dense(100, activation='relu')(input1)\n",
    "  x = Dropout(drop_rate)(x)\n",
    "  x = Dense(100, activation='relu')(x)\n",
    "  x = Dropout(drop_rate)(x)\n",
    "  x = Dense(100, activation='relu')(x)\n",
    "  out = Dense(1, activation='sigmoid')(x)\n",
    "\n",
    "  model = Model(inputs=input1, outputs=out)\n",
    "  model.compile(optimizer=Adam(),\n",
    "                loss='binary_crossentropy',\n",
    "                metrics=['acc'])\n",
    "  return model"
   ]
  },
  {
   "cell_type": "code",
   "execution_count": 36,
   "metadata": {},
   "outputs": [
    {
     "name": "stdout",
     "output_type": "stream",
     "text": [
      "start training\n",
      "train with 3 epochs and 512 batch size\n",
      "Train on 16461637 samples, validate on 2035694 samples\n",
      "Epoch 1/3\n",
      "16461637/16461637 [==============================] - 177s - loss: 0.4188 - acc: 0.8331 - val_loss: 0.3153 - val_acc: 0.8606\n",
      "Epoch 2/3\n",
      "16461637/16461637 [==============================] - 176s - loss: 0.3230 - acc: 0.8586 - val_loss: 0.2855 - val_acc: 0.8783\n",
      "Epoch 3/3\n",
      "16461637/16461637 [==============================] - 176s - loss: 0.3056 - acc: 0.8673 - val_loss: 0.2708 - val_acc: 0.8834\n"
     ]
    }
   ],
   "source": [
    "# Train your model\n",
    "print('start training')\n",
    "verbose = 1\n",
    "# model_nn_with_dropout = get_nn_with_dropout()\n",
    "# TODO#5\n",
    "# Complete the code to train your model with dropout\n",
    "from keras.callbacks import ModelCheckpoint, TensorBoard\n",
    "\n",
    "# This is called to clear the original model session in order to use TensorBoard\n",
    "from keras import backend as K\n",
    "K.clear_session()\n",
    "\n",
    "model_feedforward_nn_with_dropout = get_nn_with_dropout()\n",
    "train_params = [(3, 512)]\n",
    "for (epochs, batch_size) in train_params:\n",
    "  print(\"train with {} epochs and {} batch size\".format(epochs, batch_size))\n",
    "  model_feedforward_nn_with_dropout.fit(x_train_char, y_train, epochs=epochs, batch_size=batch_size, verbose=verbose,\n",
    "                           validation_data=(x_val_char, y_val))"
   ]
  },
  {
   "cell_type": "code",
   "execution_count": 17,
   "metadata": {},
   "outputs": [
    {
     "data": {
      "text/plain": [
       "(0.82498394531068786, 0.85094061467372328, 0.80056394095206507)"
      ]
     },
     "execution_count": 17,
     "metadata": {},
     "output_type": "execute_result"
    }
   ],
   "source": [
    "evaluate(x_test_char, y_test, model_feedforward_nn_with_dropout)"
   ]
  },
  {
   "cell_type": "markdown",
   "metadata": {},
   "source": [
    "# A fork on the road\n",
    "\n",
    "In the next Sections, we will discuss CNNs and GRUs. **PICK ONE** method to complete to finish the homework. Then, do the **Final Section**"
   ]
  },
  {
   "cell_type": "markdown",
   "metadata": {},
   "source": [
    "# Convolution Neural Networks\n",
    "\n",
    "Now, you are going to implement you own 1d-convolution neural networks with the following structure:\n",
    "input -> embedding layer (size 32) -> 1D-convolution layer (100 filters of size 5, strides of 1) -> TimeDistributed (Dense size 5) -> fully-connected layer (size 100) -> output.\n",
    "\n",
    "These parameters are simple guidelines to save your time. You can play with them in the final section.\n",
    "\n",
    "The results should be better than the feedforward model.\n",
    "\n",
    "Do consult keras documentation on how to use [embedding layers](https://keras.io/layers/embeddings/) and [1D-cnn](https://keras.io/layers/convolutional/).\n"
   ]
  },
  {
   "cell_type": "code",
   "execution_count": 13,
   "metadata": {
    "collapsed": true
   },
   "outputs": [],
   "source": [
    "################################################################################\n",
    "# TODO#A1:                                                                      #\n",
    "# Write a function that returns keras convolution nueral network model.        #\n",
    "# You can choose any normalization methods, activation function, as well as    #\n",
    "# any hyperparameter the way you want. Your goal is to predict a score         #\n",
    "# between [0,1] for each input whether it is the beginning of the word or not. #\n",
    "#                                                                              #\n",
    "# Hint: You should read keras documentation to see the list of available       #\n",
    "# layers and options you can use.                                              #\n",
    "################################################################################\n",
    "from keras.models import Model\n",
    "from keras.layers import Input, Dense, Dropout,Conv1D,TimeDistributed,Flatten,Embedding\n",
    "from keras.optimizers import Adam\n",
    "from keras.models import Sequential\n",
    "def get_conv1d_nn():\n",
    "    model = Sequential()\n",
    "    model.add(Embedding(len(CHARS),32,input_shape = (21,)))\n",
    "    model.add(Conv1D(100,5,strides=1))\n",
    "    model.add(TimeDistributed(Dense(5)))\n",
    "    model.add(Flatten())\n",
    "    model.add(Dense(100, activation='relu'))\n",
    "    model.add(Dense(1, activation='sigmoid'))\n",
    "\n",
    "    model.compile(optimizer=Adam(),\n",
    "                loss='binary_crossentropy',\n",
    "                metrics=['acc'])\n",
    "    return model"
   ]
  },
  {
   "cell_type": "code",
   "execution_count": 16,
   "metadata": {},
   "outputs": [
    {
     "name": "stdout",
     "output_type": "stream",
     "text": [
      "start training conv1d\n",
      "train with 3 epochs and 2048 batch size\n",
      "Train on 16461637 samples, validate on 2035694 samples\n",
      "Epoch 1/3\n",
      "16461637/16461637 [==============================] - 118s - loss: 0.1222 - acc: 0.9513 - val_loss: 0.1049 - val_acc: 0.9593\n",
      "Epoch 2/3\n",
      "16461637/16461637 [==============================] - 117s - loss: 0.0978 - acc: 0.9621 - val_loss: 0.0966 - val_acc: 0.9630\n",
      "Epoch 3/3\n",
      "16461637/16461637 [==============================] - 116s - loss: 0.0924 - acc: 0.9645 - val_loss: 0.0929 - val_acc: 0.9646\n"
     ]
    }
   ],
   "source": [
    "################################################################################\n",
    "# TODO#A2:                                                                      #\n",
    "# Write code that call model.fit, or model.fit_generator if you have data      #\n",
    "# generator, to train you models. Make sure you have validation_data as an     # \n",
    "# argument and use verbose=2 to generate one log line per epoch. Select your   #\n",
    "# batch size carefully as it will affect your model's ability to converge and  #\n",
    "# time needed for one epoch.                                                   #\n",
    "#                                                                              #\n",
    "# Hint: Read about callbacks_list argument on the documentation. You might     #\n",
    "# find  ReduceLROnPlateau() and ModelCheckpoint() useful for your training     #\n",
    "# process. Feel free to use any other callback function available.             #\n",
    "################################################################################\n",
    "from keras import backend as K\n",
    "K.clear_session()\n",
    "print('start training conv1d')\n",
    "model_conv1d_nn = get_conv1d_nn()\n",
    "\n",
    "################################################################################\n",
    "#                            WRITE YOUR CODE BELOW                             #\n",
    "################################################################################\n",
    "train_params = [(3, 2048)]\n",
    "for (epochs, batch_size) in train_params:\n",
    "  print(\"train with {} epochs and {} batch size\".format(epochs, batch_size))\n",
    "  model_conv1d_nn.fit(x_train_char, y_train, epochs=epochs, batch_size=batch_size, verbose=1,\n",
    "                           validation_data=(x_val_char, y_val))"
   ]
  },
  {
   "cell_type": "code",
   "execution_count": 17,
   "metadata": {},
   "outputs": [
    {
     "data": {
      "text/plain": [
       "(0.9408594231598012, 0.92850528673256238, 0.95354674628185987)"
      ]
     },
     "execution_count": 17,
     "metadata": {},
     "output_type": "execute_result"
    }
   ],
   "source": [
    "evaluate(x_test_char, y_test, model_conv1d_nn)"
   ]
  },
  {
   "cell_type": "markdown",
   "metadata": {},
   "source": [
    "# GRU\n",
    "\n",
    "Implement your GRU model with the following structure: input -> embedding layer (size 32) -> GRU layer (size 32) -> fully-connected layer (size 100) -> output.\n",
    "\n",
    "\n",
    "These parameters are simple guidelines to save your time. You can play with them in the final section.\n",
    "\n",
    "The result should be better than the feedforward model and at least on par with your CNN model.\n",
    "\n",
    "Do consult keras documentation on how to use [embedding layers](https://keras.io/layers/embeddings/) and [GRUs](https://keras.io/layers/recurrent/).\n"
   ]
  },
  {
   "cell_type": "code",
   "execution_count": 92,
   "metadata": {
    "collapsed": true
   },
   "outputs": [],
   "source": [
    "################################################################################\n",
    "# TODO#B1                                                                        #\n",
    "# Write a function that returns keras GRU network moded. You can choose any    #\n",
    "# normalization methods, activation function, as well as any hyperparameter    #\n",
    "# the way you want. Your goal is to predict a score between [0,1] for each     #\n",
    "# input whether it is the beginning of the word or not.                        #\n",
    "#                                                                              #\n",
    "# Hint: You should read keras documentation to see the list of available       #\n",
    "# layers and options you can use.                                              #\n",
    "################################################################################\n",
    "from keras.models import Model\n",
    "from keras.layers import Input, Dense, Dropout,Conv1D,TimeDistributed,Flatten,GRU\n",
    "from keras.optimizers import Adam\n",
    "from keras.models import Sequential\n",
    "def get_gru():\n",
    "    model = Sequential()\n",
    "    model.add(Embedding(len(CHARS),32,input_shape = (21,)))\n",
    "    model.add(GRU(32))\n",
    "    model.add(Dense(100, activation='relu'))\n",
    "    model.add(Dense(1, activation='sigmoid'))\n",
    "\n",
    "    model.compile(optimizer=Adam(),\n",
    "                loss='binary_crossentropy',\n",
    "                metrics=['acc'])\n",
    "    return model"
   ]
  },
  {
   "cell_type": "code",
   "execution_count": 96,
   "metadata": {},
   "outputs": [
    {
     "name": "stdout",
     "output_type": "stream",
     "text": [
      "start training conv1d\n",
      "train with 3 epochs and 2048 batch size\n",
      "Train on 16461637 samples, validate on 2035694 samples\n",
      "Epoch 1/3\n",
      "16461637/16461637 [==============================] - 303s - loss: 0.2330 - acc: 0.8978 - val_loss: 0.1818 - val_acc: 0.9269\n",
      "Epoch 2/3\n",
      "16461637/16461637 [==============================] - 303s - loss: 0.1566 - acc: 0.9387 - val_loss: 0.1395 - val_acc: 0.9468\n",
      "Epoch 3/3\n",
      "16461637/16461637 [==============================] - 302s - loss: 0.1308 - acc: 0.9496 - val_loss: 0.1353 - val_acc: 0.9488\n"
     ]
    }
   ],
   "source": [
    "################################################################################\n",
    "# TODO#B2                                                                      #\n",
    "# Write code that call model.fit, or model.fit_generator if you have data      #\n",
    "# generator, to train you models. Make sure you have validation_data as an     # \n",
    "# argument and use verbose=2 to generate one log line per epoch. Select your   #\n",
    "# batch size carefully as it will affect your model's ability to converge and  #\n",
    "# time needed for one epoch.                                                   #\n",
    "#                                                                              #\n",
    "# Hint: Read about callbacks_list argument on the documentation. You might     #\n",
    "# find  ReduceLROnPlateau() and ModelCheckpoint() useful for your training     #\n",
    "# process. Feel free to use any other callback function available.             #\n",
    "################################################################################\n",
    "print('start training conv1d')\n",
    "model_gru = get_gru()\n",
    "################################################################################\n",
    "#                            WRITE YOUR CODE BELOW                             #\n",
    "################################################################################\n",
    "train_params = [(3, 2048)]\n",
    "for (epochs, batch_size) in train_params:\n",
    "  print(\"train with {} epochs and {} batch size\".format(epochs, batch_size))\n",
    "  model_gru.fit(x_train_char, y_train, epochs=epochs, batch_size=batch_size, verbose=verbose,\n",
    "                           validation_data=(x_val_char, y_val))"
   ]
  },
  {
   "cell_type": "code",
   "execution_count": 98,
   "metadata": {},
   "outputs": [
    {
     "data": {
      "text/plain": [
       "(0.91610274212219811, 0.87288927293562557, 0.96381773807549231)"
      ]
     },
     "execution_count": 98,
     "metadata": {},
     "output_type": "execute_result"
    }
   ],
   "source": [
    "evaluate(x_test_char, y_test, model_gru)"
   ]
  },
  {
   "cell_type": "markdown",
   "metadata": {},
   "source": [
    "# Embedding Vector (Optional)\n",
    "You may noticed that we used an embedding layer in the previous models. This is to map a character (an integer per character) to a vector representions it, e.g. mapping [a] from [35] to [0.432 0.921 0.111 0.526]. These vectors are trained along with other layers by back propagation. The reason for using embedding layers is to better encode information about the  characters. This can include relationships between the characters, and its relavance to the top-level task used to train the embedding.\n",
    "In this section, you are going to plot the embedding vectors that you have trained. Because we cannot visualize high dimentional data, we need to map those positions down to 2D or 3D. \n",
    "In this task, plot a 2D vecter representations with t-SNE.\n"
   ]
  },
  {
   "cell_type": "code",
   "execution_count": 99,
   "metadata": {
    "collapsed": true
   },
   "outputs": [],
   "source": [
    "from sklearn.manifold import TSNE\n",
    "\n",
    "def plot_with_labels(low_dim_embs, labels, filename='characters-tsne.png'):\n",
    "  assert low_dim_embs.shape[0] >= len(labels), 'More labels than embeddings'\n",
    "  plt.figure(figsize=(18, 18))  # in inches\n",
    "  for i, label in enumerate(labels):\n",
    "    x, y = low_dim_embs[i, :]\n",
    "    plt.scatter(x, y)\n",
    "    plt.annotate(label,\n",
    "                 xy=(x, y),\n",
    "                 xytext=(5, 2),\n",
    "                 textcoords='offset points',\n",
    "                 ha='right',\n",
    "                 va='bottom',\n",
    "                 fontname='TH Sarabun New',\n",
    "                 fontsize=20)\n",
    "\n",
    "  plt.savefig(filename)\n",
    "  plt.show()"
   ]
  },
  {
   "cell_type": "code",
   "execution_count": null,
   "metadata": {
    "collapsed": true
   },
   "outputs": [],
   "source": []
  },
  {
   "cell_type": "code",
   "execution_count": 107,
   "metadata": {
    "collapsed": true
   },
   "outputs": [],
   "source": [
    "################################################################################\n",
    "# TODO#O1                                                                        #\n",
    "# Extract embedding tables from your model. Put it in 'embedding_table'.       #\n",
    "# Your embedding_table must be of size 178 x K where K is the embedding        #\n",
    "# dimension you used in your model.                                            # \n",
    "################################################################################\n",
    "\n",
    "embedding_table = np.zeros([178, 32])\n",
    "embedding_table = model_gru.layers[0]"
   ]
  },
  {
   "cell_type": "code",
   "execution_count": 108,
   "metadata": {
    "collapsed": true
   },
   "outputs": [],
   "source": [
    "embedding_table = np.array(embedding_table.get_weights()[0])\n"
   ]
  },
  {
   "cell_type": "code",
   "execution_count": 109,
   "metadata": {},
   "outputs": [
    {
     "data": {
      "text/plain": [
       "(178, 32)"
      ]
     },
     "execution_count": 109,
     "metadata": {},
     "output_type": "execute_result"
    }
   ],
   "source": [
    "embedding_table.shape"
   ]
  },
  {
   "cell_type": "code",
   "execution_count": null,
   "metadata": {
    "collapsed": true
   },
   "outputs": [],
   "source": []
  },
  {
   "cell_type": "code",
   "execution_count": 110,
   "metadata": {},
   "outputs": [
    {
     "data": {
      "image/png": "[encoded data removed]",
      "text/plain": [
       "<matplotlib.figure.Figure at 0x7f40709af048>"
      ]
     },
     "metadata": {},
     "output_type": "display_data"
    }
   ],
   "source": [
    "# Run t-SNE and plot the representation\n",
    "tsne = TSNE(perplexity=5, n_components=2, init='pca', n_iter=1000, method='exact')\n",
    "plot_only = 178\n",
    "low_dim_embs = tsne.fit_transform(embedding_table)\n",
    "labels = [CHARS[i] for i in range(plot_only)]\n",
    "plot_with_labels(low_dim_embs, labels)"
   ]
  },
  {
   "cell_type": "markdown",
   "metadata": {},
   "source": [
    "# Final Section\n",
    "# Keras playground\n",
    "\n",
    "Now, train the best model you can do for this task. You can use any model structure and function available. Remember that trainig time increases with the complexity of the model. You might find TensorBoard helpful in tuning of complicated models.\n",
    "\n",
    "Your model should be better than your CNN or GRU model in the previous sections.\n",
    "\n",
    "We will give you 2 bonus points if you can achieve more than 97.8% f-score on test set.\n",
    "Another 3 bonus points will be awarded to the person with the highest f-score."
   ]
  },
  {
   "cell_type": "code",
   "execution_count": 20,
   "metadata": {
    "collapsed": true
   },
   "outputs": [],
   "source": [
    "################################################################################\n",
    "# TODO#7                                                                        #\n",
    "# Write a function that returns keras your best model. You can use anything    #\n",
    "# you want. The goal here is to create the best model you can think of.        #\n",
    "# Your model should get f-score more than 97% from calling evaluate().         #\n",
    "#                                                                              #\n",
    "# Hint: You should read keras documentation to see the list of available       #\n",
    "# layers and options you can use.                                              #\n",
    "################################################################################\n",
    "from keras.models import Model\n",
    "from keras.layers import Input, Dense, Dropout, LSTM, Embedding\n",
    "from keras.optimizers import Adam\n",
    "def get_my_best_model():\n",
    "    model = Sequential()\n",
    "    model.add(Embedding(len(CHARS),32,input_shape = (21,)))\n",
    "    model.add(Conv1D(100,5,strides=1))\n",
    "    model.add(TimeDistributed(Dense(5)))\n",
    "    model.add(Flatten())\n",
    "    model.add(Dense(100, activation='relu'))\n",
    "    model.add(Dropout(0.1))\n",
    "    model.add(Dense(100, activation='relu'))\n",
    "    model.add(Dense(1, activation='sigmoid'))\n",
    "\n",
    "    model.compile(optimizer=Adam(),\n",
    "                loss='binary_crossentropy',\n",
    "                metrics=['acc'])\n",
    "\n",
    "    return model\n"
   ]
  },
  {
   "cell_type": "code",
   "execution_count": null,
   "metadata": {},
   "outputs": [
    {
     "name": "stdout",
     "output_type": "stream",
     "text": [
      "start training conv1d\n",
      "train with 3 epochs and 100 batch size\n",
      "Train on 16461637 samples, validate on 2035694 samples\n",
      "Epoch 1/3\n",
      "  721600/16461637 [>.............................] - ETA: 1082s - loss: 0.1521 - acc: 0.9391"
     ]
    }
   ],
   "source": [
    "################################################################################\n",
    "# TODO#8                                                                        #\n",
    "# Write code that call model.fit, or model.fit_generator if you have data      #\n",
    "# generator, to train you models. Make sure you have validation_data as an     # \n",
    "# argument and use verbose=2 to generate one log line per epoch. Select your   #\n",
    "# batch size carefully as it will affect your model's ability to converge and  #\n",
    "# time needed for one epoch.                                                   #\n",
    "#                                                                              #\n",
    "# Hint: Read about callbacks_list argument on the documentation. You might     #\n",
    "# find  ReduceLROnPlateau() and ModelCheckpoint() useful for your training     #\n",
    "# process. Feel free to use any other callback function available.             #\n",
    "################################################################################\n",
    "print('start training conv1d')\n",
    "my_best_model = get_my_best_model()\n",
    "################################################################################\n",
    "#                            WRITE YOUR CODE BELOW                             #\n",
    "################################################################################\n",
    "train_params = [(3,100)]\n",
    "for (epochs, batch_size) in train_params:\n",
    "  print(\"train with {} epochs and {} batch size\".format(epochs, batch_size))\n",
    "  my_best_model.fit(x_train_char, y_train, epochs=epochs, batch_size=batch_size, verbose=1,\n",
    "                           validation_data=(x_val_char, y_val))"
   ]
  },
  {
   "cell_type": "code",
   "execution_count": 29,
   "metadata": {},
   "outputs": [
    {
     "data": {
      "text/plain": [
       "(0.94248064640915741, 0.92716329952178855, 0.95831260021009568)"
      ]
     },
     "execution_count": 29,
     "metadata": {},
     "output_type": "execute_result"
    }
   ],
   "source": [
    "evaluate(x_test_char, y_test, my_best_model)"
   ]
  },
  {
   "cell_type": "code",
   "execution_count": null,
   "metadata": {
    "collapsed": true
   },
   "outputs": [],
   "source": []
  }
 ],
 "metadata": {
  "kernelspec": {
   "display_name": "Python 3",
   "language": "python",
   "name": "python3"
  },
  "language_info": {
   "codemirror_mode": {
    "name": "ipython",
    "version": 3
   },
   "file_extension": ".py",
   "mimetype": "text/x-python",
   "name": "python",
   "nbconvert_exporter": "python",
   "pygments_lexer": "ipython3",
   "version": "3.6.4"
  }
 },
 "nbformat": 4,
 "nbformat_minor": 2
}
